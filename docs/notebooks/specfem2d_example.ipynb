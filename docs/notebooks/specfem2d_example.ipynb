{
 "cells": [
  {
   "cell_type": "markdown",
   "metadata": {},
   "source": [
    "# Specfem2D Workstation Example\n",
    "\n",
    "To demonstrate the inversion capabilities of SeisFlows, we will run a __Specfem2D synthetic-synthetic example__ on a __local machine__ (tested on a Linux workstation running CentOS 7, and an Apple Laptop running macOS 10.14.6). Many of the setup steps here may be unique to our OS and workstation, but hopefully they may serve as templates for new Users wanting to explore SeisFlows. \n",
    "\n",
    "The numerical solver we will use is: [SPECFEM2D](https://geodynamics.org/cig/software/specfem2d/). We'll also be working in our `seisflows` [Conda](https://docs.conda.io/en/latest/) environment, see the installation documentation page for instructions on how to install and activate the required Conda environment.\n",
    "\n",
    "-----------------------------------"
   ]
  },
  {
   "cell_type": "markdown",
   "metadata": {},
   "source": [
    "## Option 1: Automated run\n",
    "\n",
    "We have set up this example to run using a single command line argument. The following command will run an example script which will (1) download and compile SPECFEM2D, (2) setup a SPECFEM2D working directory to generate initial and target models, and (3) Run a SeisFlows inversion. "
   ]
  },
  {
   "cell_type": "raw",
   "metadata": {},
   "source": [
    ".. warning:: \n",
    "    If you do not have a compiled version of SPECFEM2D, then this example will attempt to automatically download and compile SPECFEM2D. This step may fail if you do not have software required by SPECFEM2D, if there are issues with the SPECFEM2D repository itself, or if the configuration and compiling steps fail. If you run any issues, it is recommended that you manually install and compile SPECFEM2D, and directly provide its path to this example problem using the -r or --specfem2d_repo flags (shown below)."
   ]
  },
  {
   "cell_type": "markdown",
   "metadata": {},
   "source": [
    "### Example \\#1\n",
    "Example \\#1 runs a 2 iteration inversion using SPECFEM2D, the default preprocessing module and a gradient descent optimization algorithm."
   ]
  },
  {
   "cell_type": "raw",
   "metadata": {},
   "source": [
    ".. note::\n",
    "    Example number 1 is meant to FAIL during the line search of Iteration #2, after exceeding the maximum allowable line search step count. This is meant to illustrate line search behavior and allow the User to explore a working directory mid-workflow."
   ]
  },
  {
   "cell_type": "code",
   "execution_count": 1,
   "metadata": {},
   "outputs": [
    {
     "name": "stdout",
     "output_type": "stream",
     "text": [
      "1 example: ex1_specfem2d_workstation_inversion\n",
      "\n",
      "                                    @@@@@@@@@@                        \n",
      "                               .@@@@.    .%&(  %@.          \n",
      "                            @@@@   @@@@   &@@@@@@ ,%@       \n",
      "                         @@@@   @@@,  /@@              @    \n",
      "                        @@@   @@@@   @@@              @     \n",
      "                      @@@@   @@@@   @@@                @  @ \n",
      "                      @@@   @@@@   ,@@@                @ @  \n",
      "                     @@@@   @@@@    @@@@              @@ @ @\n",
      "                     @@@@   @@@@@    @@@@@          @@@ @@ @\n",
      "                     @@@@    @@@@@     @@@@@@@@@@@@@@  @@  @\n",
      "                      @@@@    @@@@@@        @@@&     @@@  @ \n",
      "                      @@@@@     @@@@@@@@         %@@@@#  @@ \n",
      "                        @@@@#      @@@@@@@@@@@@@@@@@   @@   \n",
      "                         &@@@@@          @@@@(       @@&    \n",
      "                            @@@@@@@             /@@@@       \n",
      "                                @@@@@@@@@@@@@@@@@\n",
      "                                    @@@@@@@@@@          \n",
      "\n",
      "\n",
      "================================================================================\n",
      "                              SEISFLOWS EXAMPLE 1                               \n",
      "                              ///////////////////                               \n",
      "This is a [SPECFEM2D] [WORKSTATION] example, which will run an inversion to\n",
      "assess misfit between two homogeneous halfspace models with slightly different\n",
      "velocities. [3 events, 1 station, 2 iterations]. The inversion is expected to\n",
      "fail after the 5th line search step count of the 2nd iteration. The tasks\n",
      "involved include:\n",
      "\n",
      "1. (optional) Download, configure, compile SPECFEM2D\n",
      "2. Set up a SPECFEM2D working directory\n",
      "3. Generate starting model from Tape2007 example\n",
      "4. Generate target model w/ perturbed starting model\n",
      "5. Set up a SeisFlows working directory\n",
      "6. Run an inversion workflow\n",
      "================================================================================\n"
     ]
    }
   ],
   "source": [
    "! seisflows examples 1  # print example help dialogue"
   ]
  },
  {
   "cell_type": "markdown",
   "metadata": {},
   "source": [
    "You can either setup and run the example in separate tasks using the `examples setup` and `submit` commands. or directly run the example after setup using the `examples run` command. Use the `-r` or `--specfem2d_repo` flag to point SeisFlows at an existing SPECFEM2D/ repository (with compiled binaries). If not given, SeisFlows will automatically download, configure and compile SPECFEM2D in your current working directory."
   ]
  },
  {
   "cell_type": "code",
   "execution_count": null,
   "metadata": {},
   "outputs": [],
   "source": [
    "! seisflows examples setup 1 -r path/to/specfem2d\n",
    "! seisflows submit\n",
    "# The above commands are the same as the below\n",
    "! seisflows examples run 1 --specfem2d_repo path/to/specfem2d"
   ]
  },
  {
   "cell_type": "markdown",
   "metadata": {},
   "source": [
    "### Example \\#2\n",
    "Example \\#2 runs a 1 iteration inversion using SPECFEM2D, the Pyaflowa preprocessing module and an L-BFGS optimization algorithm. It successfully completes the line search and is meant to illustrate the output of the Pyaflowa preprocessing module."
   ]
  },
  {
   "cell_type": "code",
   "execution_count": 2,
   "metadata": {},
   "outputs": [
    {
     "name": "stdout",
     "output_type": "stream",
     "text": [
      "2 example: ex2_specfem2d_workstation_inversion_w_pyatoa\n",
      "\n",
      "                                    @@@@@@@@@@                        \n",
      "                               .@@@@.    .%&(  %@.          \n",
      "                            @@@@   @@@@   &@@@@@@ ,%@       \n",
      "                         @@@@   @@@,  /@@              @    \n",
      "                        @@@   @@@@   @@@              @     \n",
      "                      @@@@   @@@@   @@@                @  @ \n",
      "                      @@@   @@@@   ,@@@                @ @  \n",
      "                     @@@@   @@@@    @@@@              @@ @ @\n",
      "                     @@@@   @@@@@    @@@@@          @@@ @@ @\n",
      "                     @@@@    @@@@@     @@@@@@@@@@@@@@  @@  @\n",
      "                      @@@@    @@@@@@        @@@&     @@@  @ \n",
      "                      @@@@@     @@@@@@@@         %@@@@#  @@ \n",
      "                        @@@@#      @@@@@@@@@@@@@@@@@   @@   \n",
      "                         &@@@@@          @@@@(       @@&    \n",
      "                            @@@@@@@             /@@@@       \n",
      "                                @@@@@@@@@@@@@@@@@\n",
      "                                    @@@@@@@@@@          \n",
      "\n",
      "\n",
      "================================================================================\n",
      "                              SEISFLOWS EXAMPLE 2                               \n",
      "                              ///////////////////                               \n",
      "This is a [SPECFEM2D] [WORKSTATION] example, which will run an inversion to\n",
      "assess misfit between a homogeneous halfspace  and checkerboard model using\n",
      "Pyatoa for misfit quantification [2 events, 5 stations, 1 iterations]. The tasks\n",
      "involved include:\n",
      "\n",
      "1. (optional) Download, configure, compile SPECFEM2D\n",
      "2. Set up a SPECFEM2D working directory\n",
      "3. Generate starting model from Tape2007 example\n",
      "4. Generate target model w/ perturbed starting model\n",
      "5. Set up a SeisFlows working directory\n",
      "6. Run an inversion workflow. The line search is expected to attempt 4 evaluations (i01s04)\n",
      "================================================================================\n"
     ]
    }
   ],
   "source": [
    "! seisflows examples 2"
   ]
  },
  {
   "cell_type": "markdown",
   "metadata": {},
   "source": [
    "You can run the example with the same command as shown for Example 1:"
   ]
  },
  {
   "cell_type": "code",
   "execution_count": null,
   "metadata": {},
   "outputs": [],
   "source": [
    "! seisflows examples run 2 -r path/to/specfem2d"
   ]
  },
  {
   "cell_type": "markdown",
   "metadata": {},
   "source": [
    "--------------\n",
    "## Option 2: Manual run\n",
    "\n",
    "The notebook below details a walkthrough of Example \\#1 shown above. This is meant for those who want to understand what is going on under the hood. You are welcome to follow along on your workstation. The following Table of Contents outlines the steps we will take in this tutorial:\n",
    "\n"
   ]
  },
  {
   "cell_type": "raw",
   "metadata": {},
   "source": [
    ".. warning:: \n",
    "    Navigation links will not work outside of Jupyter. Please use the navigation bar to the left."
   ]
  },
  {
   "cell_type": "markdown",
   "metadata": {},
   "source": [
    "1. __[Setup SPECFEM2D](#1.-Setup-SPECFEM2D)__  \n",
    "    a. [Download and compile codebase](#1a.-Download-and-compile-codebase*)  \n",
    "    b. [Create a separate SPECFEM2D working directory](#1b.-Create-a-separate-SPECFEM2D-working-directory)  \n",
    "    c. [Generate initial and target models](#1c.-Generate-initial-and-target-models)  \n",
    "2. __[Initialize SeisFlows (SF)](#2.-Initialize-SeisFlows-(SF))__  \n",
    "    a. [SeisFlows working directory and parameter file](#2a.-SF-working-directory-and-parameter-file)  \n",
    "3. __[Run SeisFlows](#2.-Run-SeisFlows)__  \n",
    "    a. [Forward simulations](#3a.-Forward-simulations)  \n",
    "    b. [Exploring the SeisFlows directory structure](#3b.-Exploring-the-SF-directory-structure)    \n",
    "    c. [Adjoint simulations](#3c.-Adjoint-simulations)  \n",
    "    d. [Line search and model update](#3d.-Line-search-and-model-update)  \n",
    "4. __[Conclusions](#4.-Conclusions)__  "
   ]
  },
  {
   "cell_type": "markdown",
   "metadata": {},
   "source": [
    "### 1. Setup SPECFEM2D \n",
    "#### 1a. Download and compile codebase (optional)\n",
    "\n",
    "> **NOTE**: If you have already downloaded and compiled SPECFEM2D, you can skip most of this subsection (1a). However you will need to edit the first two paths in the following cell (WORKDIR and SPECFEM2D_ORIGINAL), and execute the path structure defined in the cell.\n",
    "\n",
    "First we'll download and compile SPECFEM2D to generate the binaries necessary to run our simulations. We will then populate a new SPECFEM2D working directory that will be used by SeisFlows. We'll use to Python OS module to do our filesystem processes just to keep everything in Python, but this can easily be accomplished in bash."
   ]
  },
  {
   "cell_type": "code",
   "execution_count": 2,
   "metadata": {},
   "outputs": [],
   "source": [
    "import os\n",
    "import glob\n",
    "import shutil\n",
    "import numpy as np"
   ]
  },
  {
   "cell_type": "code",
   "execution_count": 4,
   "metadata": {},
   "outputs": [],
   "source": [
    "# vvv USER MUST EDIT THE FOLLOWING PATHS vvv\n",
    "WORKDIR = \"/home/bchow/Work/scratch\" \n",
    "SPECFEM2D = \"/home/bchow/REPOSITORIES/specfem2d\"\n",
    "# where WORKDIR: points to your own working directory\n",
    "# and SPECFEM2D: points to an existing specfem2D repository if available (if not set as '')\n",
    "# ^^^ USER MUST EDIT THE FOLLOWING PATHS ^^^\n",
    "# ======================================================================================================\n",
    "\n",
    "# Distribute the necessary file structure of the SPECFEM2D repository that we will downloaded/reference\n",
    "SPECFEM2D_ORIGINAL = os.path.join(WORKDIR, \"specfem2d\")\n",
    "SPECFEM2D_BIN_ORIGINAL = os.path.join(SPECFEM2D_ORIGINAL, \"bin\")\n",
    "SPECFEM2D_DATA_ORIGINAL = os.path.join(SPECFEM2D_ORIGINAL, \"DATA\")\n",
    "TAPE_2007_EXAMPLE = os.path.join(SPECFEM2D_ORIGINAL, \"EXAMPLES\", \"Tape2007\")\n",
    "\n",
    "# The SPECFEM2D working directory that we will create separate from the downloaded repo\n",
    "SPECFEM2D_WORKDIR = os.path.join(WORKDIR, \"specfem2d_workdir\")\n",
    "SPECFEM2D_BIN = os.path.join(SPECFEM2D_WORKDIR, \"bin\")\n",
    "SPECFEM2D_DATA = os.path.join(SPECFEM2D_WORKDIR, \"DATA\")\n",
    "SPECFEM2D_OUTPUT = os.path.join(SPECFEM2D_WORKDIR, \"OUTPUT_FILES\")\n",
    "\n",
    "# Pre-defined locations of velocity models we will generate using the solver\n",
    "SPECFEM2D_MODEL_INIT = os.path.join(SPECFEM2D_WORKDIR, \"OUTPUT_FILES_INIT\")\n",
    "SPECFEM2D_MODEL_TRUE = os.path.join(SPECFEM2D_WORKDIR, \"OUTPUT_FILES_TRUE\")"
   ]
  },
  {
   "cell_type": "code",
   "execution_count": 5,
   "metadata": {},
   "outputs": [
    {
     "name": "stdout",
     "output_type": "stream",
     "text": [
      "Existing SPECMFE2D respository found, symlinking to working directory\n"
     ]
    }
   ],
   "source": [
    "# Download SPECFEM2D from GitHub, devel branch for latest codebase OR symlink from existing repo\n",
    "if not os.path.exists(WORKDIR):\n",
    "    os.makedirs(WORKDIR)\n",
    "os.chdir(WORKDIR)\n",
    "\n",
    "if os.path.exists(\"specfem2d\"):\n",
    "    print(\"SPECFEM2D repository already found, you may skip this subsection\")\n",
    "    pass\n",
    "elif os.path.exists(SPECFEM2D):\n",
    "    print(\"Existing SPECMFE2D respository found, symlinking to working directory\")\n",
    "    os.symlink(SPECFEM2D, \"./specfem2d\")\n",
    "else:\n",
    "    print(\"Cloning respository from GitHub\")\n",
    "    ! git clone --recursive --branch devel https://github.com/geodynamics/specfem2d.git"
   ]
  },
  {
   "cell_type": "code",
   "execution_count": 6,
   "metadata": {},
   "outputs": [],
   "source": [
    "# Compile SPECFEM2D to generate the Makefile\n",
    "os.chdir(SPECFEM2D_ORIGINAL)\n",
    "if not os.path.exists(\"./config.log\"):\n",
    "    os.system(\"./configure\")"
   ]
  },
  {
   "cell_type": "code",
   "execution_count": 7,
   "metadata": {},
   "outputs": [],
   "source": [
    "# Run make to generate SPECFEM2D binaries\n",
    "if not os.path.exists(\"bin\"):\n",
    "    os.system(\"make all\")"
   ]
  },
  {
   "cell_type": "code",
   "execution_count": 8,
   "metadata": {},
   "outputs": [
    {
     "name": "stdout",
     "output_type": "stream",
     "text": [
      "/home/bchow/REPOSITORIES/specfem2d\n",
      "xadj_seismogram\t\t      xconvolve_source_timefunction  xspecfem2D\n",
      "xcheck_quality_external_mesh  xmeshfem2D\t\t     xsum_kernels\n",
      "xcombine_sem\t\t      xsmooth_sem\n"
     ]
    }
   ],
   "source": [
    "# Check out the binary files that have been created\n",
    "os.chdir(SPECFEM2D_ORIGINAL)\n",
    "! pwd\n",
    "! ls bin/"
   ]
  },
  {
   "cell_type": "markdown",
   "metadata": {},
   "source": [
    "#### 1b. Create a separate SPECFEM2D working directory\n",
    "\n",
    "Next we'll create a new SPECFEM2D working directory, separate from the original repository. The intent here is to isolate the original SPECFEM2D repository from our working state, to protect it from things like accidental file deletions or manipulations. This is not a mandatory step for using SeisFlows, but it helps keep file structure clean in the long run, and is the SeisFlows3 dev team's preferred method of using SPECFEM. "
   ]
  },
  {
   "cell_type": "raw",
   "metadata": {},
   "source": [
    ".. note::\n",
    "    All SPECFEM2D/3D/3D_GLOBE need to run successfully are the bin/, DATA/, and OUTPUT_FILES/ directories. Everything else in the repository is not mandatory for running binaries."
   ]
  },
  {
   "cell_type": "markdown",
   "metadata": {},
   "source": [
    "In this tutorial we will be using the [Tape2007 example problem](https://github.com/geodynamics/specfem2d/tree/devel/EXAMPLES/Tape2007) to define our __DATA/__ directory (last tested 8/15/22, bdba4389)."
   ]
  },
  {
   "cell_type": "code",
   "execution_count": 9,
   "metadata": {},
   "outputs": [
    {
     "name": "stdout",
     "output_type": "stream",
     "text": [
      "/home/bchow/Work/scratch/specfem2d_workdir\n",
      "bin  DATA\n"
     ]
    }
   ],
   "source": [
    "# Incase we've run this docs page before, delete the working directory before remaking\n",
    "if os.path.exists(SPECFEM2D_WORKDIR):\n",
    "    shutil.rmtree(SPECFEM2D_WORKDIR)\n",
    "\n",
    "os.mkdir(SPECFEM2D_WORKDIR)\n",
    "os.chdir(SPECFEM2D_WORKDIR)\n",
    "\n",
    "# Copy the binary files incase we update the source code. These can also be symlinked.\n",
    "shutil.copytree(SPECFEM2D_BIN_ORIGINAL, \"bin\")\n",
    "\n",
    "# Copy the DATA/ directory because we will be making edits here frequently and it's useful to\n",
    "# retain the original files for reference. We will be running one of the example problems: Tape2007\n",
    "shutil.copytree(os.path.join(TAPE_2007_EXAMPLE, \"DATA\"), \"DATA\")\n",
    "\n",
    "! pwd\n",
    "! ls"
   ]
  },
  {
   "cell_type": "code",
   "execution_count": 10,
   "metadata": {},
   "outputs": [
    {
     "name": "stdout",
     "output_type": "stream",
     "text": [
      " -------------------------------------------------------------------------------\r\n",
      " -------------------------------------------------------------------------------\r\n",
      " D a t e : 16 - 08 - 2022                                 T i m e  : 14:26:37\r\n",
      " -------------------------------------------------------------------------------\r\n",
      " -------------------------------------------------------------------------------\r\n",
      "\r\n",
      "see results in directory: OUTPUT_FILES/\r\n",
      "\r\n",
      "done\r\n",
      "Tue Aug 16 02:26:37 PM AKDT 2022\r\n"
     ]
    }
   ],
   "source": [
    "# Run the Tape2007 example to make sure SPECFEM2D is working as expected\n",
    "os.chdir(TAPE_2007_EXAMPLE)\n",
    "! ./run_this_example.sh > output_log.txt\n",
    "\n",
    "assert(os.path.exists(\"OUTPUT_FILES/forward_image000004800.jpg\")), \\\n",
    "    (f\"Example did not run, the remainder of this docs page will likely not work.\"\n",
    "     f\"Please check the following directory: {TAPE_2007_EXAMPLE}\")\n",
    "\n",
    "! tail output_log.txt"
   ]
  },
  {
   "cell_type": "markdown",
   "metadata": {},
   "source": [
    "------------------------------------\n",
    "Now we need to manually set up our SPECFEM2D working directory. As mentioned in the previous cell, the only required elements of this working directory are the following (these files will form the basis for how SeisFlows3 operates within the SPECFEM2D framework):\n",
    "\n",
    "1. __bin/__ directory containing SPECFEM2D binaries\n",
    "2. __DATA/__ directory containing SOURCE and STATION files, as well as a SPECFEM2D Par_file\n",
    "3. __OUTPUT_FILES/proc??????_*.bin__ files which define the starting (and target) models"
   ]
  },
  {
   "cell_type": "raw",
   "metadata": {},
   "source": [
    ".. note:: \n",
    "    This file structure is the same for all versions of SPECFEM (2D/3D/3D_GLOBE)"
   ]
  },
  {
   "cell_type": "code",
   "execution_count": 11,
   "metadata": {},
   "outputs": [
    {
     "name": "stdout",
     "output_type": "stream",
     "text": [
      "interfaces_Tape2007.dat\t\t     SOURCE_003  SOURCE_012  SOURCE_021\r\n",
      "model_velocity.dat_checker\t     SOURCE_004  SOURCE_013  SOURCE_022\r\n",
      "Par_file\t\t\t     SOURCE_005  SOURCE_014  SOURCE_023\r\n",
      "Par_file_Tape2007_132rec_checker     SOURCE_006  SOURCE_015  SOURCE_024\r\n",
      "Par_file_Tape2007_onerec\t     SOURCE_007  SOURCE_016  SOURCE_025\r\n",
      "proc000000_model_velocity.dat_input  SOURCE_008  SOURCE_017  STATIONS\r\n",
      "SOURCE\t\t\t\t     SOURCE_009  SOURCE_018  STATIONS_checker\r\n",
      "SOURCE_001\t\t\t     SOURCE_010  SOURCE_019\r\n",
      "SOURCE_002\t\t\t     SOURCE_011  SOURCE_020\r\n"
     ]
    }
   ],
   "source": [
    "# First we will set the correct SOURCE and STATION files.\n",
    "# This is the same task as shown in ./run_this_example.sh\n",
    "os.chdir(SPECFEM2D_DATA)\n",
    "\n",
    "# Symlink source 001 as our main source\n",
    "if os.path.exists(\"SOURCE\"):\n",
    "    os.remove(\"SOURCE\")\n",
    "os.symlink(\"SOURCE_001\", \"SOURCE\")\n",
    "\n",
    "# Copy the correct Par_file so that edits do not affect the original file\n",
    "if os.path.exists(\"Par_file\"):\n",
    "    os.remove(\"Par_file\")\n",
    "shutil.copy(\"Par_file_Tape2007_onerec\", \"Par_file\")\n",
    "\n",
    "! ls"
   ]
  },
  {
   "cell_type": "markdown",
   "metadata": {},
   "source": [
    "#### 1c. Generate initial and target models\n",
    "\n",
    "Since we're doing a synthetic-synthetic inversion, we need to manually set up the velocity models with which we generate our synthetic waveforms. The naming conventions for these models are:\n",
    "\n",
    "1. __MODEL_INIT:__ The initial or starting model. Used to generate the actual synthetic seismograms. This is considered M00.\n",
    "2. __MODEL_TRUE:__ The target or true model. Used to generate 'data' (also synthetic). This is the reference model that our inversion is trying to resolve.\n",
    "\n",
    "The starting model is defined as a homogeneous halfspace uin the Tape2007 example problem. We will need to run both `xmeshfem2D` and `xspecfem2D` to generate the required velocity model database files. We will generate our target model by slightly perturbing the parameters of the initial model."
   ]
  },
  {
   "cell_type": "raw",
   "metadata": {},
   "source": [
    ".. note::\n",
    "    We can use the SeisFlows3 command line option `seisflows sempar` to directly edit the SPECFEM2D Par_file in the command line. This will work for the SPECFEM3D Par_file as well."
   ]
  },
  {
   "cell_type": "code",
   "execution_count": 12,
   "metadata": {},
   "outputs": [
    {
     "name": "stdout",
     "output_type": "stream",
     "text": [
      "setup_with_binary_database: 0 -> 1\n",
      "SAVE_MODEL: default -> binary\n",
      "save_ASCII_kernels: .true. -> .false.\n"
     ]
    }
   ],
   "source": [
    "os.chdir(SPECFEM2D_DATA)\n",
    "\n",
    "# Ensure that SPECFEM2D outputs the velocity model in the expected binary format\n",
    "! seisflows sempar setup_with_binary_database 1  # allow creation of .bin files\n",
    "! seisflows sempar save_model binary  # output model in .bin database format\n",
    "! seisflows sempar save_ascii_kernels .false.  # output kernels in .bin format, not ASCII"
   ]
  },
  {
   "cell_type": "code",
   "execution_count": 13,
   "metadata": {},
   "outputs": [
    {
     "name": "stdout",
     "output_type": "stream",
     "text": [
      "bin  DATA  OUTPUT_FILES\r\n"
     ]
    }
   ],
   "source": [
    "# SPECFEM requires that we create the OUTPUT_FILES directory before running\n",
    "os.chdir(SPECFEM2D_WORKDIR)\n",
    "\n",
    "if os.path.exists(SPECFEM2D_OUTPUT):\n",
    "    shutil.rmtree(SPECFEM2D_OUTPUT)\n",
    "    \n",
    "os.mkdir(SPECFEM2D_OUTPUT)\n",
    "\n",
    "! ls"
   ]
  },
  {
   "cell_type": "code",
   "execution_count": 14,
   "metadata": {},
   "outputs": [
    {
     "name": "stdout",
     "output_type": "stream",
     "text": [
      "\n",
      " **********************************************\n",
      " **** Specfem 2-D Solver - serial version  ****\n",
      " **********************************************\n",
      "\n",
      " Running Git version of the code corresponding to commit cf89366717d9435985ba852ef1d41a10cee97884\n",
      " dating From Date:   Mon Nov 29 23:20:51 2021 -0800\n",
      "\n",
      "\n",
      " NDIM =            2\n",
      " -------------------------------------------------------------------------------\n",
      " Program SPECFEM2D: \n",
      " -------------------------------------------------------------------------------\n",
      " -------------------------------------------------------------------------------\n",
      " Tape-Liu-Tromp (GJI 2007)\n",
      " -------------------------------------------------------------------------------\n",
      " -------------------------------------------------------------------------------\n",
      " D a t e : 16 - 08 - 2022                                 T i m e  : 14:26:52\n",
      " -------------------------------------------------------------------------------\n",
      " -------------------------------------------------------------------------------\n"
     ]
    }
   ],
   "source": [
    "# GENERATE MODEL_INIT\n",
    "os.chdir(SPECFEM2D_WORKDIR)\n",
    "\n",
    "# Run the mesher and solver to generate our initial model\n",
    "! ./bin/xmeshfem2D > OUTPUT_FILES/mesher_log.txt\n",
    "! ./bin/xspecfem2D > OUTPUT_FILES/solver_log.txt\n",
    "\n",
    "# Move the model files (*.bin) into the OUTPUT_FILES directory, where SeisFlows3 expects them\n",
    "! mv DATA/*bin OUTPUT_FILES\n",
    "\n",
    "# Make sure we don't overwrite this initial model when creating our target model in the next step\n",
    "! mv OUTPUT_FILES OUTPUT_FILES_INIT\n",
    "\n",
    "! head OUTPUT_FILES_INIT/solver_log.txt\n",
    "! tail OUTPUT_FILES_INIT/solver_log.txt"
   ]
  },
  {
   "cell_type": "markdown",
   "metadata": {},
   "source": [
    "-----------------------------\n",
    "\n",
    "Now we want to perturb the initial model to create our target model (__MODEL_TRUE__). The seisflows command line subargument `seisflows sempar velocity_model` will let us view and edit the velocity model. You can also do this manually by editing the Par_file directly. "
   ]
  },
  {
   "cell_type": "code",
   "execution_count": 15,
   "metadata": {},
   "outputs": [
    {
     "name": "stdout",
     "output_type": "stream",
     "text": [
      "VELOCITY_MODEL:\r\n",
      "\r\n",
      "1 1 2600.d0 5800.d0 3500.0d0 0 0 10.d0 10.d0 0 0 0 0 0 0\r\n",
      "->\r\n",
      "1 1 2600.d0 5900.d0 3550.0d0 0 0 10.d0 10.d0 0 0 0 0 0 0\r\n"
     ]
    }
   ],
   "source": [
    "# GENERATE MODEL_TRUE\n",
    "os.chdir(SPECFEM2D_DATA)\n",
    "\n",
    "# Edit the Par_file by increasing velocities by ~10% \n",
    "! seisflows sempar velocity_model '1 1 2600.d0 5900.d0 3550.0d0 0 0 10.d0 10.d0 0 0 0 0 0 0'"
   ]
  },
  {
   "cell_type": "code",
   "execution_count": 16,
   "metadata": {},
   "outputs": [
    {
     "name": "stdout",
     "output_type": "stream",
     "text": [
      "\n",
      " **********************************************\n",
      " **** Specfem 2-D Solver - serial version  ****\n",
      " **********************************************\n",
      "\n",
      " Running Git version of the code corresponding to commit cf89366717d9435985ba852ef1d41a10cee97884\n",
      " dating From Date:   Mon Nov 29 23:20:51 2021 -0800\n",
      "\n",
      "\n",
      " NDIM =            2\n",
      " -------------------------------------------------------------------------------\n",
      " Program SPECFEM2D: \n",
      " -------------------------------------------------------------------------------\n",
      " -------------------------------------------------------------------------------\n",
      " Tape-Liu-Tromp (GJI 2007)\n",
      " -------------------------------------------------------------------------------\n",
      " -------------------------------------------------------------------------------\n",
      " D a t e : 16 - 08 - 2022                                 T i m e  : 14:26:52\n",
      " -------------------------------------------------------------------------------\n",
      " -------------------------------------------------------------------------------\n"
     ]
    }
   ],
   "source": [
    "# Re-run the mesher and solver to generate our target velocity model\n",
    "os.chdir(SPECFEM2D_WORKDIR)\n",
    "\n",
    "# Make sure the ./OUTPUT_FILES directory exists since we moved the old one\n",
    "if os.path.exists(SPECFEM2D_OUTPUT):\n",
    "    shutil.rmtree(SPECFEM2D_OUTPUT)\n",
    "os.mkdir(SPECFEM2D_OUTPUT)\n",
    "\n",
    "# Run the binaries to generate MODEL_TRUE\n",
    "! ./bin/xmeshfem2D > OUTPUT_FILES/mesher_log.txt\n",
    "! ./bin/xspecfem2D > OUTPUT_FILES/solver_log.txt\n",
    "\n",
    "# Move all the relevant files into OUTPUT_FILES \n",
    "! mv ./DATA/*bin OUTPUT_FILES\n",
    "! mv OUTPUT_FILES OUTPUT_FILES_TRUE\n",
    "\n",
    "! head OUTPUT_FILES_INIT/solver_log.txt\n",
    "! tail OUTPUT_FILES_INIT/solver_log.txt"
   ]
  },
  {
   "cell_type": "code",
   "execution_count": 17,
   "metadata": {},
   "outputs": [
    {
     "name": "stdout",
     "output_type": "stream",
     "text": [
      "bin  DATA  OUTPUT_FILES_INIT  OUTPUT_FILES_TRUE\r\n"
     ]
    }
   ],
   "source": [
    "# Great, we have all the necessary SPECFEM files to run our SeisFlows inversion!\n",
    "! ls"
   ]
  },
  {
   "cell_type": "markdown",
   "metadata": {},
   "source": [
    "### 2. Initialize SeisFlows (SF)\n",
    "In this Section we will look at a SeisFlows working directory, parameter file, and working state.\n",
    "\n",
    "#### 2a. SeisFlows working directory and parameter file\n",
    "\n",
    "As with SPECFEM, SeisFlows requires a parameter file (__parameters.yaml__) that controls how an automated workflow will proceed. Because SeisFlows is modular, there are a large number of potential parameters which may be present in a SeisFlows parameter file, as each sub-module may have its own set of unique parameters.\n",
    "\n",
    "In contrast to SPECFEM's method of listing all available parameters and leaving it up the User to determine which ones are relevant to them, SeisFlows dynamically builds its parameter file based on User inputs. In this subsection we will use the built-in SeisFlows command line tools to generate and populate the parameter file. "
   ]
  },
  {
   "cell_type": "raw",
   "metadata": {},
   "source": [
    ".. note::\n",
    "    See the `parameter file documentation page <parameter_file.html>`__ for a more in depth exploration of this central SeisFlows file."
   ]
  },
  {
   "cell_type": "markdown",
   "metadata": {},
   "source": [
    "In the previous section we saw the `sempar` command in action. We can use the `-h` or help flag to list all available SiesFlows3 command line commands."
   ]
  },
  {
   "cell_type": "code",
   "execution_count": 18,
   "metadata": {},
   "outputs": [
    {
     "name": "stdout",
     "output_type": "stream",
     "text": [
      "usage: seisflows [-h] [-w [WORKDIR]] [-p [PARAMETER_FILE]]\r\n",
      "                 {setup,configure,swap,init,submit,resume,restart,clean,par,sempar,check,print,reset,debug,examples}\r\n",
      "                 ...\r\n",
      "\r\n",
      "================================================================================\r\n",
      "\r\n",
      "                     SeisFlows: Waveform Inversion Package                      \r\n",
      "\r\n",
      "================================================================================\r\n",
      "\r\n",
      "optional arguments:\r\n",
      "  -h, --help            show this help message and exit\r\n",
      "  -w [WORKDIR], --workdir [WORKDIR]\r\n",
      "                        The SeisFlows working directory, default: cwd\r\n",
      "  -p [PARAMETER_FILE], --parameter_file [PARAMETER_FILE]\r\n",
      "                        Parameters file, default: 'parameters.yaml'\r\n",
      "\r\n",
      "command:\r\n",
      "  Available SeisFlows arguments and their intended usages\r\n",
      "\r\n",
      "    setup               Setup working directory from scratch\r\n",
      "    configure           Fill parameter file with defaults\r\n",
      "    swap                Swap module parameters in an existing parameter file\r\n",
      "    init                Initiate working environment\r\n",
      "    submit              Submit initial workflow to system\r\n",
      "    resume              Re-submit previous workflow to system\r\n",
      "    restart             Remove current environment and submit new workflow\r\n",
      "    clean               Remove files relating to an active working environment\r\n",
      "    par                 View and edit SeisFlows parameter file\r\n",
      "    sempar              View and edit SPECFEM parameter file\r\n",
      "    check               Check state of an active environment\r\n",
      "    print               Print information related to an active environment\r\n",
      "    reset               Reset modules within an active state\r\n",
      "    debug               Start interactive debug environment\r\n",
      "    examples            Look at and run pre-configured example problems\r\n",
      "\r\n",
      "'seisflows [command] -h' for more detailed descriptions of each command.\r\n"
     ]
    }
   ],
   "source": [
    "! seisflows -h"
   ]
  },
  {
   "cell_type": "code",
   "execution_count": 35,
   "metadata": {},
   "outputs": [
    {
     "name": "stdout",
     "output_type": "stream",
     "text": [
      "creating parameter file: parameters.yaml\n",
      "parameters.yaml  sflog.txt  specfem2d  specfem2d_workdir\n"
     ]
    }
   ],
   "source": [
    "# The command 'setup' creates the 'parameters.yaml' file that controls all of SeisFlows\n",
    "# the '-f' flag removes any exist 'parameters.yaml' file that might be in the directory\n",
    "os.chdir(WORKDIR)\n",
    "! seisflows setup -f\n",
    "! ls"
   ]
  },
  {
   "cell_type": "code",
   "execution_count": 36,
   "metadata": {},
   "outputs": [
    {
     "name": "stdout",
     "output_type": "stream",
     "text": [
      "# //////////////////////////////////////////////////////////////////////////////\r\n",
      "#\r\n",
      "#                        SeisFlows YAML Parameter File\r\n",
      "#\r\n",
      "# //////////////////////////////////////////////////////////////////////////////\r\n",
      "#\r\n",
      "# Modules correspond to the structure of the source code, and determine\r\n",
      "# SeisFlows' behavior at runtime. Each module requires its own sub-parameters.\r\n",
      "#\r\n",
      "# .. rubric::\r\n",
      "#   - To determine available options for modules listed below, run:\r\n",
      "#       > seisflows print modules\r\n",
      "#   - To auto-fill with docstrings and default values (recommended), run:\r\n",
      "#       > seisflows configure\r\n",
      "#   - To set values as NoneType, use: null\r\n",
      "#   - To set values as infinity, use: inf\r\n",
      "#\r\n",
      "#                                    MODULES\r\n",
      "#                                    ///////\r\n",
      "# workflow (str):    The types and order of functions for running SeisFlows\r\n",
      "# system (str):      Computer architecture of the system being used\r\n",
      "# solver (str):      External numerical solver to use for waveform simulations\r\n",
      "# preprocess (str):  Preprocessing schema for waveform data\r\n",
      "# optimize (str):    Optimization algorithm for the inverse problem\r\n",
      "# ==============================================================================\r\n",
      "workflow: forward\r\n",
      "system: workstation\r\n",
      "solver: specfem2d\r\n",
      "preprocess: default\r\n",
      "optimize: gradient\r\n"
     ]
    }
   ],
   "source": [
    "# Let's have a look at this file, which has not yet been populated\n",
    "! cat parameters.yaml"
   ]
  },
  {
   "cell_type": "code",
   "execution_count": 37,
   "metadata": {},
   "outputs": [
    {
     "name": "stdout",
     "output_type": "stream",
     "text": [
      "                               SEISFLOWS MODULES                                \r\n",
      "                               /////////////////                                \r\n",
      "'-': module, '*': class\r\n",
      "\r\n",
      "- workflow\r\n",
      "    * forward\r\n",
      "    * inversion\r\n",
      "    * migration\r\n",
      "- system\r\n",
      "    * chinook\r\n",
      "    * cluster\r\n",
      "    * frontera\r\n",
      "    * lsf\r\n",
      "    * maui\r\n",
      "    * slurm\r\n",
      "    * workstation\r\n",
      "- solver\r\n",
      "    * specfem\r\n",
      "    * specfem2d\r\n",
      "    * specfem3d\r\n",
      "    * specfem3d_globe\r\n",
      "- preprocess\r\n",
      "    * default\r\n",
      "    * pyaflowa\r\n",
      "- optimize\r\n",
      "    * LBFGS\r\n",
      "    * NLCG\r\n",
      "    * gradient\r\n"
     ]
    }
   ],
   "source": [
    "# We can use the `seisflows print modules` command to list out the available options \n",
    "! seisflows print modules"
   ]
  },
  {
   "cell_type": "code",
   "execution_count": 38,
   "metadata": {},
   "outputs": [
    {
     "name": "stdout",
     "output_type": "stream",
     "text": [
      "workflow: forward -> inversion\n",
      "# //////////////////////////////////////////////////////////////////////////////\n",
      "#\n",
      "#                        SeisFlows YAML Parameter File\n",
      "#\n",
      "# //////////////////////////////////////////////////////////////////////////////\n",
      "#\n",
      "# Modules correspond to the structure of the source code, and determine\n",
      "# SeisFlows' behavior at runtime. Each module requires its own sub-parameters.\n",
      "#\n",
      "# .. rubric::\n",
      "#   - To determine available options for modules listed below, run:\n",
      "#       > seisflows print modules\n",
      "#   - To auto-fill with docstrings and default values (recommended), run:\n",
      "#       > seisflows configure\n",
      "#   - To set values as NoneType, use: null\n",
      "#   - To set values as infinity, use: inf\n",
      "#\n",
      "#                                    MODULES\n",
      "#                                    ///////\n",
      "# workflow (str):    The types and order of functions for running SeisFlows\n",
      "# system (str):      Computer architecture of the system being used\n",
      "# solver (str):      External numerical solver to use for waveform simulations\n",
      "# preprocess (str):  Preprocessing schema for waveform data\n",
      "# optimize (str):    Optimization algorithm for the inverse problem\n",
      "# ==============================================================================\n",
      "workflow: inversion\n",
      "system: workstation\n",
      "solver: specfem2d\n",
      "preprocess: default\n",
      "optimize: gradient\n"
     ]
    }
   ],
   "source": [
    "# For this example, we can use most of the default modules, however we need to \n",
    "# change the SOLVER module to let SeisFlows know we're using SPECFEM2D (as opposed to 3D)\n",
    "! seisflows par workflow inversion\n",
    "! cat parameters.yaml"
   ]
  },
  {
   "cell_type": "markdown",
   "metadata": {},
   "source": [
    "-------------------------\n",
    "The `seisflows configure` command populates the parameter file based on the chosen modules. SeisFlows will attempt to fill in all parameters with reasonable default values. Docstrings above each module show descriptions and available options for each of these parameters. \n",
    "\n",
    "In the follownig cell we will use the `seisflows par` command to edit the parameters.yaml file directly, replacing some default parameters with our own values. Comments next to each evaluation describe the choice for each."
   ]
  },
  {
   "cell_type": "code",
   "execution_count": 39,
   "metadata": {},
   "outputs": [
    {
     "name": "stdout",
     "output_type": "stream",
     "text": [
      "# //////////////////////////////////////////////////////////////////////////////\r\n",
      "#\r\n",
      "#                        SeisFlows YAML Parameter File\r\n",
      "#\r\n",
      "# //////////////////////////////////////////////////////////////////////////////\r\n",
      "#\r\n",
      "# Modules correspond to the structure of the source code, and determine\r\n",
      "# SeisFlows' behavior at runtime. Each module requires its own sub-parameters.\r\n",
      "#\r\n",
      "# .. rubric::\r\n",
      "#   - To determine available options for modules listed below, run:\r\n",
      "#       > seisflows print modules\r\n",
      "#   - To auto-fill with docstrings and default values (recommended), run:\r\n",
      "#       > seisflows configure\r\n",
      "#   - To set values as NoneType, use: null\r\n",
      "#   - To set values as infinity, use: inf\r\n",
      "#\r\n",
      "#                                    MODULES\r\n",
      "#                                    ///////\r\n",
      "# workflow (str):    The types and order of functions for running SeisFlows\r\n",
      "# system (str):      Computer architecture of the system being used\r\n",
      "# solver (str):      External numerical solver to use for waveform simulations\r\n",
      "# preprocess (str):  Preprocessing schema for waveform data\r\n",
      "# optimize (str):    Optimization algorithm for the inverse problem\r\n",
      "# ==============================================================================\r\n",
      "workflow: inversion\r\n",
      "system: workstation\r\n",
      "solver: specfem2d\r\n",
      "preprocess: default\r\n",
      "optimize: gradient\r\n",
      "# =============================================================================\r\n",
      "#\r\n",
      "#    Forward Workflow\r\n",
      "#    ----------------\r\n",
      "#    Run forward solver in parallel and (optionally) calculate\r\n",
      "#    data-synthetic misfit and adjoint sources.\r\n",
      "#\r\n",
      "#    Parameters\r\n",
      "#    ----------\r\n",
      "#    :type modules: list of module\r\n",
      "#    :param modules: instantiated SeisFlows modules which should have been\r\n",
      "#        generated by the function `seisflows.config.import_seisflows` with a\r\n",
      "#        parameter file generated by seisflows.configure\r\n",
      "#    :type data_case: str\r\n",
      "#    :param data_case: How to address 'data' in the workflow, available options:\r\n",
      "#        'data': real data will be provided by the user in\r\n",
      "#        `path_data/{source_name}` in the same format that the solver will\r\n",
      "#        produce synthetics (controlled by `solver.format`) OR\r\n",
      "#        synthetic': 'data' will be generated as synthetic seismograms using\r\n",
      "#        a target model provided in `path_model_true`. If None, workflow will\r\n"
     ]
    }
   ],
   "source": [
    "! seisflows configure\n",
    "! head --lines=50 parameters.yaml"
   ]
  },
  {
   "cell_type": "code",
   "execution_count": 40,
   "metadata": {},
   "outputs": [
    {
     "name": "stdout",
     "output_type": "stream",
     "text": [
      "ntask: 1 -> 3\n",
      "materials: acoustic -> elastic\n",
      "end: 1 -> 2\n",
      "data_case: data -> synthetic\n",
      "components: ZNE -> Y\n",
      "step_count_max: 10 -> 5\n",
      "path_specfem_bin: null -> /home/bchow/Work/scratch/specfem2d_workdir/bin\n",
      "path_specfem_data: null -> /home/bchow/Work/scratch/specfem2d_workdir/DATA\n",
      "path_model_init: null ->\n",
      "/home/bchow/Work/scratch/specfem2d_workdir/OUTPUT_FILES_INIT\n",
      "path_model_true: null ->\n",
      "/home/bchow/Work/scratch/specfem2d_workdir/OUTPUT_FILES_TRUE\n"
     ]
    },
    {
     "data": {
      "text/plain": [
       "0"
      ]
     },
     "execution_count": 40,
     "metadata": {},
     "output_type": "execute_result"
    }
   ],
   "source": [
    "# EDIT THE SEISFLOWS PARAMETER FILE\n",
    "! seisflows par ntask 3  # set the number of sources/events to use\n",
    "! seisflows par materials elastic  # update Vp and Vs during inversion\n",
    "! seisflows par end 2  # final iteration -- we will only run 1\n",
    "! seisflows par data_case synthetic  # synthetic-synthetic means we need both INIT and TRUE models\n",
    "! seisflows par components Y  # this default example creates Y-component seismograms\n",
    "! seisflows par step_count_max 5  # limit the number of steps in the line search\n",
    "\n",
    "# Use Python syntax here to access path constants\n",
    "os.system(f\"seisflows par path_specfem_bin {SPECFEM2D_BIN}\")  # set path to SPECFEM2D binaries\n",
    "os.system(f\"seisflows par path_specfem_data {SPECFEM2D_DATA}\")  # set path to SEPCFEM2D DATA/\n",
    "os.system(f\"seisflows par path_model_init {SPECFEM2D_MODEL_INIT}\")  # set path to INIT model\n",
    "os.system(f\"seisflows par path_model_true {SPECFEM2D_MODEL_TRUE}\")  # set path to TRUE model"
   ]
  },
  {
   "cell_type": "markdown",
   "metadata": {},
   "source": [
    "------------------------------\n",
    "One last thing, we will need to edit the SPECFEM2D Par_file parameter `MODEL` such that `xmeshfem2d` reads our pre-built velocity models (\\*.bin files) rather than the meshing parameters defined in the Par_file."
   ]
  },
  {
   "cell_type": "code",
   "execution_count": 28,
   "metadata": {},
   "outputs": [
    {
     "name": "stdout",
     "output_type": "stream",
     "text": [
      "MODEL: default -> gll\r\n"
     ]
    }
   ],
   "source": [
    "os.chdir(SPECFEM2D_DATA)\n",
    "! seisflows sempar model gll"
   ]
  },
  {
   "cell_type": "markdown",
   "metadata": {},
   "source": [
    "### 3. Run SeisFlows\n",
    "\n",
    "In this Section we will run SeisFlows to generate synthetic seismograms, kernels, a gradient, and an updated velocity model.\n",
    "\n",
    "#### 3a. Forward simulations\n",
    "\n",
    "SeisFlows is an automated workflow tool, such that once we run `seisflows submit` we should not need to intervene in the workflow. However the package does allow the User flexibility in how they want the workflow to behave.\n",
    "\n",
    "For example, we can run our workflow in stages by taking advantage of the `stop_after` parameter. As its name suggests, `stop_after` allows us to stop a workflow prematurely so that we may stop and look at results, or debug a failing workflow.\n",
    "\n",
    "The `seisflows print flow` command tells us what functions we can use for the `stop_after` parameter. "
   ]
  },
  {
   "cell_type": "code",
   "execution_count": 41,
   "metadata": {},
   "outputs": [
    {
     "name": "stdout",
     "output_type": "stream",
     "text": [
      "                          SEISFLOWS WORKFLOW TASK LIST                          \r\n",
      "                          ////////////////////////////                          \r\n",
      "Task list for <class 'seisflows.workflow.inversion.Inversion'>\r\n",
      "\r\n",
      "1: evaluate_initial_misfit\r\n",
      "2: run_adjoint_simulations\r\n",
      "3: postprocess_event_kernels\r\n",
      "4: evaluate_gradient_from_kernels\r\n",
      "5: initialize_line_search\r\n",
      "6: perform_line_search\r\n",
      "7: finalize_iteration\r\n"
     ]
    }
   ],
   "source": [
    "os.chdir(WORKDIR)\n",
    "! seisflows print tasks"
   ]
  },
  {
   "cell_type": "markdown",
   "metadata": {},
   "source": [
    "-----------------------------\n",
    "In the Inversion workflow, the tasks listed are described as follows:\n",
    "\n",
    "1. __evaluate_initial_misfit:__  \n",
    "    a. Prepare data for inversion by either copying data from disk or generating 'synthetic data' with MODEL_TRUE  \n",
    "    b. Call numerical solver to run forward simulations using MODEL_INIT, generating synthetics  \n",
    "    c. Evaluate the objective function by performing waveform comparisons  \n",
    "    d. Prepare `run_adjoint_simulations` step by generating adjoint sources and auxiliary files\n",
    "2. __run_adjoint_simulations:__ Call numerical solver to run adjoint simulation, generating kernels\n",
    "3. __postprocess_event_kernels:__ Combine all event kernels into a misfit kernel. \n",
    "4. __evaluate_gradient_from_kernels:__ Smooth and mask the misfit kernel to create the gradient\n",
    "4. __initialize_line_search:__ Call on the optimization library to scale the gradient by a step length to compute the search direction. Prepare file structure for line search.\n",
    "5. __perform_line_search:__ Perform a line search by algorithmically scaling the gradient and evaluating the misfit function (forward simulations and misfit quantification) until misfit is acceptably reduced.\n",
    "6. __finalize_iteration:__ Run any finalization steps such as saving traces, kernels, gradients and models to disk, setting up SeisFlows3 for any subsequent iterations. Clean the scratch/ directory in preparation for subsequent iterations\n",
    "\n",
    "Let's set the `stop_after` argument to __evaluate_initial_misfit__, this will halt the workflow after the intialization step. "
   ]
  },
  {
   "cell_type": "code",
   "execution_count": 42,
   "metadata": {},
   "outputs": [
    {
     "name": "stdout",
     "output_type": "stream",
     "text": [
      "stop_after: null -> evaluate_initial_misfit\r\n"
     ]
    }
   ],
   "source": [
    "! seisflows par stop_after evaluate_initial_misfit"
   ]
  },
  {
   "cell_type": "markdown",
   "metadata": {},
   "source": [
    "-----------------------\n",
    "Now let's run SeisFlows. There are two ways to do this: `submit` and `restart`\n",
    "\n",
    "1. `seisflows submit` is used to run new workflows and resume stopped or failed workflows.\n",
    "2. The `restart` command is simply a convenience function that runs `clean` (to remove an active working state) and `submit` (to submit a fresh workflow). \n",
    "\n",
    "Since this is our first run, we'll use `seisflows submit`."
   ]
  },
  {
   "cell_type": "code",
   "execution_count": 43,
   "metadata": {},
   "outputs": [
    {
     "name": "stdout",
     "output_type": "stream",
     "text": [
      "2022-08-16 14:32:48 (I) | \n",
      "================================================================================\n",
      "                         SETTING UP INVERSION WORKFLOW                          \n",
      "================================================================================\n",
      "2022-08-16 14:32:55 (D) | running setup for module 'system.Workstation'\n",
      "2022-08-16 14:32:57 (D) | copying par/log file to: /home/bchow/Work/scratch/logs/sflog_001.txt\n",
      "2022-08-16 14:32:57 (D) | copying par/log file to: /home/bchow/Work/scratch/logs/parameters_001.yaml\n",
      "2022-08-16 14:32:57 (D) | running setup for module 'solver.Specfem2D'\n",
      "2022-08-16 14:32:57 (I) | initializing 3 solver directories\n",
      "2022-08-16 14:32:57 (D) | initializing solver directory source: 001\n",
      "2022-08-16 14:33:04 (D) | linking source '001' as 'mainsolver'\n",
      "2022-08-16 14:33:04 (D) | initializing solver directory source: 002\n",
      "2022-08-16 14:33:09 (D) | initializing solver directory source: 003\n",
      "2022-08-16 14:33:16 (D) | running setup for module 'preprocess.Default'\n",
      "2022-08-16 14:33:16 (D) | running setup for module 'optimize.Gradient'\n",
      "2022-08-16 14:33:17 (I) | no optimization checkpoint found, assuming first run\n",
      "2022-08-16 14:33:17 (I) | re-loading optimization module from checkpoint\n",
      "2022-08-16 14:33:17 (I) | \n",
      "////////////////////////////////////////////////////////////////////////////////\n",
      "                              RUNNING ITERATION 01                              \n",
      "////////////////////////////////////////////////////////////////////////////////\n",
      "2022-08-16 14:33:17 (I) | \n",
      "================================================================================\n",
      "                           RUNNING INVERSION WORKFLOW                           \n",
      "================================================================================\n",
      "2022-08-16 14:33:17 (I) | \n",
      "////////////////////////////////////////////////////////////////////////////////\n",
      "                      EVALUATING MISFIT FOR INITIAL MODEL                       \n",
      "////////////////////////////////////////////////////////////////////////////////\n",
      "2022-08-16 14:33:17 (I) | checking initial model parameters\n",
      "2022-08-16 14:33:17 (I) | 5800.00 <= vp <= 5800.00\n",
      "2022-08-16 14:33:17 (I) | 2600.00 <= rho <= 2600.00\n",
      "2022-08-16 14:33:17 (I) | 3500.00 <= vs <= 3500.00\n",
      "2022-08-16 14:33:17 (I) | checking true/target model parameters\n",
      "2022-08-16 14:33:17 (I) | 5900.00 <= vp <= 5900.00\n",
      "2022-08-16 14:33:17 (I) | 2600.00 <= rho <= 2600.00\n",
      "2022-08-16 14:33:17 (I) | 3550.00 <= vs <= 3550.00\n",
      "2022-08-16 14:33:17 (I) | preparing observation data for source 001\n",
      "2022-08-16 14:33:17 (I) | running forward simulation w/ target model for 001\n",
      "2022-08-16 14:33:21 (I) | evaluating objective function for source 001\n",
      "2022-08-16 14:33:21 (D) | running forward simulation with 'Specfem2D'\n",
      "2022-08-16 14:33:25 (D) | quantifying misfit with 'Default'\n",
      "2022-08-16 14:33:25 (I) | preparing observation data for source 002\n",
      "2022-08-16 14:33:25 (I) | running forward simulation w/ target model for 002\n",
      "2022-08-16 14:33:29 (I) | evaluating objective function for source 002\n",
      "2022-08-16 14:33:29 (D) | running forward simulation with 'Specfem2D'\n",
      "2022-08-16 14:33:33 (D) | quantifying misfit with 'Default'\n",
      "2022-08-16 14:33:33 (I) | preparing observation data for source 003\n",
      "2022-08-16 14:33:33 (I) | running forward simulation w/ target model for 003\n",
      "2022-08-16 14:33:36 (I) | evaluating objective function for source 003\n",
      "2022-08-16 14:33:36 (D) | running forward simulation with 'Specfem2D'\n",
      "2022-08-16 14:33:40 (D) | quantifying misfit with 'Default'\n",
      "2022-08-16 14:33:40 (I) | stop workflow at `stop_after`: evaluate_initial_misfit\n"
     ]
    }
   ],
   "source": [
    "! seisflows submit "
   ]
  },
  {
   "cell_type": "raw",
   "metadata": {},
   "source": [
    ".. note::\n",
    "    For a detailed exploration of a SeisFlows working directory, see the `working directory <working_directory.html>`__ documentation page where we explain each of the files and directories that have been generated during this workflow. Below we just look at two files which are required for our adjoint simulation, the adjoint sources (.adj) and STATIONS_ADJOINT file"
   ]
  },
  {
   "cell_type": "code",
   "execution_count": 44,
   "metadata": {},
   "outputs": [
    {
     "name": "stdout",
     "output_type": "stream",
     "text": [
      "  -48.0000000         0.0000000\r\n",
      "  -47.9400000         0.0000000\r\n",
      "  -47.8800000         0.0000000\r\n",
      "  -47.8200000         0.0000000\r\n",
      "  -47.7600000         0.0000000\r\n",
      "  -47.7000000         0.0000000\r\n",
      "  -47.6400000         0.0000000\r\n",
      "  -47.5800000         0.0000000\r\n",
      "  -47.5200000         0.0000000\r\n",
      "  -47.4600000         0.0000000\r\n"
     ]
    }
   ],
   "source": [
    "# The adjoint source is created in the same format as the synthetics (two-column ASCII) \n",
    "! head scratch/solver/001/traces/adj/AA.S0001.BXY.adj"
   ]
  },
  {
   "cell_type": "markdown",
   "metadata": {},
   "source": [
    "#### 3b. Adjoint simulations\n",
    "\n",
    "Now that we have all the required files for running an adjoint simulation (\\*.adj waveforms and STATIONS_ADJOINT file), we can continue with the SeisFlows3 Inversion workflow. No need to edit the Par_file or anything like that, SeisFlows3 will take care of that under the hood. We simply need to tell the workflow (via the parameters.yaml file) to `resume_from` the correct function. We can have a look at these functions again:"
   ]
  },
  {
   "cell_type": "code",
   "execution_count": 45,
   "metadata": {},
   "outputs": [
    {
     "name": "stdout",
     "output_type": "stream",
     "text": [
      "                          SEISFLOWS WORKFLOW TASK LIST                          \r\n",
      "                          ////////////////////////////                          \r\n",
      "Task list for <class 'seisflows.workflow.inversion.Inversion'>\r\n",
      "\r\n",
      "1: evaluate_initial_misfit\r\n",
      "2: run_adjoint_simulations\r\n",
      "3: postprocess_event_kernels\r\n",
      "4: evaluate_gradient_from_kernels\r\n",
      "5: initialize_line_search\r\n",
      "6: perform_line_search\r\n",
      "7: finalize_iteration\r\n"
     ]
    }
   ],
   "source": [
    "! seisflows print tasks"
   ]
  },
  {
   "cell_type": "code",
   "execution_count": 46,
   "metadata": {},
   "outputs": [
    {
     "name": "stdout",
     "output_type": "stream",
     "text": [
      "stop_after: evaluate_initial_misfit -> evaluate_gradient_from_kernels\r\n"
     ]
    }
   ],
   "source": [
    "# We'll stop just before the line search so that we can take a look at the files \n",
    "# generated during the middle tasks\n",
    "! seisflows par stop_after evaluate_gradient_from_kernels"
   ]
  },
  {
   "cell_type": "code",
   "execution_count": 47,
   "metadata": {},
   "outputs": [
    {
     "name": "stdout",
     "output_type": "stream",
     "text": [
      "2022-08-16 14:36:42 (D) | setting iteration==1 from state file\n",
      "2022-08-16 14:36:42 (I) | \n",
      "================================================================================\n",
      "                         SETTING UP INVERSION WORKFLOW                          \n",
      "================================================================================\n",
      "2022-08-16 14:36:48 (D) | running setup for module 'system.Workstation'\n",
      "2022-08-16 14:36:51 (D) | copying par/log file to: /home/bchow/Work/scratch/logs/sflog_002.txt\n",
      "2022-08-16 14:36:51 (D) | copying par/log file to: /home/bchow/Work/scratch/logs/parameters_002.yaml\n",
      "2022-08-16 14:36:51 (D) | running setup for module 'solver.Specfem2D'\n",
      "2022-08-16 14:36:51 (I) | initializing 3 solver directories\n",
      "2022-08-16 14:36:51 (D) | running setup for module 'preprocess.Default'\n",
      "2022-08-16 14:36:52 (D) | running setup for module 'optimize.Gradient'\n",
      "2022-08-16 14:36:53 (I) | re-loading optimization module from checkpoint\n",
      "2022-08-16 14:36:54 (I) | re-loading optimization module from checkpoint\n",
      "2022-08-16 14:36:54 (I) | \n",
      "////////////////////////////////////////////////////////////////////////////////\n",
      "                              RUNNING ITERATION 01                              \n",
      "////////////////////////////////////////////////////////////////////////////////\n",
      "2022-08-16 14:36:54 (I) | \n",
      "================================================================================\n",
      "                           RUNNING INVERSION WORKFLOW                           \n",
      "================================================================================\n",
      "2022-08-16 14:36:54 (I) | 'evaluate_initial_misfit' has already been run, skipping\n",
      "2022-08-16 14:36:54 (I) | \n",
      "////////////////////////////////////////////////////////////////////////////////\n",
      "                EVALUATING EVENT KERNELS W/ ADJOINT SIMULATIONS                 \n",
      "////////////////////////////////////////////////////////////////////////////////\n",
      "2022-08-16 14:36:54 (I) | running SPECFEM executable bin/xspecfem2D, log to 'adj_solver.log'\n",
      "2022-08-16 14:37:05 (D) | renaming output event kernels: 'alpha' -> 'vp'\n",
      "2022-08-16 14:37:05 (D) | renaming output event kernels: 'beta' -> 'vs'\n",
      "2022-08-16 14:37:05 (I) | running SPECFEM executable bin/xspecfem2D, log to 'adj_solver.log'\n",
      "2022-08-16 14:37:16 (D) | renaming output event kernels: 'alpha' -> 'vp'\n",
      "2022-08-16 14:37:16 (D) | renaming output event kernels: 'beta' -> 'vs'\n",
      "2022-08-16 14:37:18 (I) | running SPECFEM executable bin/xspecfem2D, log to 'adj_solver.log'\n",
      "2022-08-16 14:37:29 (D) | renaming output event kernels: 'alpha' -> 'vp'\n",
      "2022-08-16 14:37:29 (D) | renaming output event kernels: 'beta' -> 'vs'\n",
      "2022-08-16 14:37:30 (I) | \n",
      "////////////////////////////////////////////////////////////////////////////////\n",
      "                      GENERATING/PROCESSING MISFIT KERNEL                       \n",
      "////////////////////////////////////////////////////////////////////////////////\n",
      "2022-08-16 14:37:30 (I) | combining event kernels into single misfit kernel\n",
      "2022-08-16 14:37:31 (I) | scaling gradient to absolute model perturbations\n",
      "2022-08-16 14:37:32 (I) | stop workflow at `stop_after`: evaluate_gradient_from_kernels\n"
     ]
    }
   ],
   "source": [
    "# We can use the `seisflows submit` command to continue an active workflow\n",
    "# The state file created during the first run will tell the workflow to resume from the stopped point in the workflow\n",
    "! seisflows submit "
   ]
  },
  {
   "cell_type": "markdown",
   "metadata": {},
   "source": [
    "----------------\n",
    "The function __run_adjoint_simulations()__ has run adjoint simulations to generate event kernels. The functions __postprocess_event_kernels__ and __evaluate_gradient_from_kernels__ will have summed and (optionally) smoothed the kernels to recover the gradient, which will be used to update our starting model.\n",
    "\n",
    "> **NOTE**: Since we did not specify any smoothing lenghts (PAR.SMOOTH_H and PAR.SMOOTH_V), no smoothing of the gradient has occurred. \n",
    "\n",
    "Using the gradient-descent optimization algorithm, SeisFlows will now compute a search direction that will be used in the line search to search for a best fitting model which optimally reduces the objective function. We can take a look at where SeisFlows has stored the information relating to kernel generation and the optimization computation."
   ]
  },
  {
   "cell_type": "code",
   "execution_count": 48,
   "metadata": {},
   "outputs": [
    {
     "name": "stdout",
     "output_type": "stream",
     "text": [
      "gradient  kernels  misfit_kernel  model  residuals.txt\r\n"
     ]
    }
   ],
   "source": [
    "# Gradient evaluation files are stored here, the kernels are stored separately from the gradient incase\n",
    "# the user wants to manually manipulate them\n",
    "! ls scratch/eval_grad"
   ]
  },
  {
   "cell_type": "code",
   "execution_count": 49,
   "metadata": {},
   "outputs": [
    {
     "name": "stdout",
     "output_type": "stream",
     "text": [
      "proc000000_vp_kernel.bin  proc000000_vs_kernel.bin\r\n"
     ]
    }
   ],
   "source": [
    "# SeisFlows3 stores all kernels and gradient information as SPECFEM binary (.bin) files\n",
    "! ls scratch/eval_grad/gradient"
   ]
  },
  {
   "cell_type": "code",
   "execution_count": 50,
   "metadata": {},
   "outputs": [
    {
     "name": "stdout",
     "output_type": "stream",
     "text": [
      "001  002  003\r\n"
     ]
    }
   ],
   "source": [
    "# Kernels are stored on a per-event basis, and summed together (sum/). If smoothing was performed, \n",
    "# we would see both smoothed and unsmoothed versions of the misfit kernel\n",
    "! ls scratch/eval_grad/kernels"
   ]
  },
  {
   "cell_type": "code",
   "execution_count": 51,
   "metadata": {},
   "outputs": [
    {
     "name": "stdout",
     "output_type": "stream",
     "text": [
      "checkpoint.npz\tf_new.txt  g_new.npz  m_new.npz\r\n"
     ]
    }
   ],
   "source": [
    "# We can see that some new values have been stored in prepartion for the line search,\n",
    "# including g_new (current gradient) and p_new (current search direction). These are also\n",
    "# stored as vector NumPy arrays (.npy files)\n",
    "! ls scratch/optimize"
   ]
  },
  {
   "cell_type": "code",
   "execution_count": 52,
   "metadata": {},
   "outputs": [
    {
     "name": "stdout",
     "output_type": "stream",
     "text": [
      "[[-1.18126331e-12  2.40273470e-12  3.97045036e-11 ...  9.62017688e-11\n",
      "   4.21140102e-11  3.96825021e-12]]\n"
     ]
    }
   ],
   "source": [
    "g_new = np.load(\"scratch/optimize/g_new.npz\")\n",
    "print(g_new[\"vs_kernel\"])"
   ]
  },
  {
   "cell_type": "markdown",
   "metadata": {},
   "source": [
    "--------------------\n",
    "#### 3c. Line search and model update\n",
    "\n",
    "Let's finish off the inversion by running through the line search, which will generate new models using the\n",
    "gradient, evaluate the objective function by running forward simulations, and comparing the evaluated objective function with the value obtained in __evalaute_initial_misfit__. \n",
    "\n",
    "Satisfactory reduction in the objective function will result in a termination of the line search. We are using a bracketing line search here [(Modrak et al. 2018)](https://academic.oup.com/gji/article/206/3/1864/2583505), which requires finding models which both increase and decrease the misfit with respect to the initial evaluation. Therefore it takes atleast two trial steps to complete the line search."
   ]
  },
  {
   "cell_type": "code",
   "execution_count": 53,
   "metadata": {},
   "outputs": [
    {
     "name": "stdout",
     "output_type": "stream",
     "text": [
      "stop_after: evaluate_gradient_from_kernels -> perform_line_search\r\n"
     ]
    }
   ],
   "source": [
    "! seisflows par stop_after perform_line_search  # We don't want to run the finalize_iteration argument so that we can explore the dir"
   ]
  },
  {
   "cell_type": "code",
   "execution_count": 54,
   "metadata": {},
   "outputs": [
    {
     "name": "stdout",
     "output_type": "stream",
     "text": [
      "2022-08-16 14:41:12 (D) | setting iteration==1 from state file\n",
      "2022-08-16 14:41:12 (I) | \n",
      "================================================================================\n",
      "                         SETTING UP INVERSION WORKFLOW                          \n",
      "================================================================================\n",
      "2022-08-16 14:41:18 (D) | running setup for module 'system.Workstation'\n",
      "2022-08-16 14:41:21 (D) | copying par/log file to: /home/bchow/Work/scratch/logs/sflog_003.txt\n",
      "2022-08-16 14:41:21 (D) | copying par/log file to: /home/bchow/Work/scratch/logs/parameters_003.yaml\n",
      "2022-08-16 14:41:21 (D) | running setup for module 'solver.Specfem2D'\n",
      "2022-08-16 14:41:21 (I) | initializing 3 solver directories\n",
      "2022-08-16 14:41:22 (D) | running setup for module 'preprocess.Default'\n",
      "2022-08-16 14:41:24 (D) | running setup for module 'optimize.Gradient'\n",
      "2022-08-16 14:41:26 (I) | re-loading optimization module from checkpoint\n",
      "2022-08-16 14:41:28 (I) | re-loading optimization module from checkpoint\n",
      "2022-08-16 14:41:28 (I) | \n",
      "////////////////////////////////////////////////////////////////////////////////\n",
      "                              RUNNING ITERATION 01                              \n",
      "////////////////////////////////////////////////////////////////////////////////\n",
      "2022-08-16 14:41:28 (I) | \n",
      "================================================================================\n",
      "                           RUNNING INVERSION WORKFLOW                           \n",
      "================================================================================\n",
      "2022-08-16 14:41:28 (I) | 'evaluate_initial_misfit' has already been run, skipping\n",
      "2022-08-16 14:41:28 (I) | 'run_adjoint_simulations' has already been run, skipping\n",
      "2022-08-16 14:41:28 (I) | 'postprocess_event_kernels' has already been run, skipping\n",
      "2022-08-16 14:41:28 (I) | 'evaluate_gradient_from_kernels' has already been run, skipping\n",
      "2022-08-16 14:41:28 (I) | initializing 'bracket'ing line search\n",
      "2022-08-16 14:41:28 (I) | enforcing max step length safeguard\n",
      "2022-08-16 14:41:28 (D) | step length(s) = 0.00E+00\n",
      "2022-08-16 14:41:28 (D) | misfit val(s)  = 1.28E-03\n",
      "2022-08-16 14:41:28 (I) | try: first evaluation, attempt guess step length, alpha=9.08E+11\n",
      "2022-08-16 14:41:28 (I) | try: applying initial step length safegaurd as alpha has exceeded maximum step length, alpha_new=1.44E+10\n",
      "2022-08-16 14:41:28 (D) | overwriting initial step length, alpha_new=2.32E+09\n",
      "2022-08-16 14:41:28 (I) | trial model 'm_try' parameters: \n",
      "2022-08-16 14:41:28 (I) | 5800.00 <= vp <= 5800.00\n",
      "2022-08-16 14:41:28 (I) | 3244.51 <= vs <= 3790.00\n",
      "2022-08-16 14:41:29 (I) | \n",
      "LINE SEARCH STEP COUNT 01\n",
      "--------------------------------------------------------------------------------\n",
      "2022-08-16 14:41:29 (I) | evaluating objective function for source 001\n",
      "2022-08-16 14:41:29 (D) | running forward simulation with 'Specfem2D'\n",
      "2022-08-16 14:41:33 (D) | quantifying misfit with 'Default'\n",
      "2022-08-16 14:41:33 (I) | evaluating objective function for source 002\n",
      "2022-08-16 14:41:33 (D) | running forward simulation with 'Specfem2D'\n",
      "2022-08-16 14:41:36 (D) | quantifying misfit with 'Default'\n",
      "2022-08-16 14:41:36 (I) | evaluating objective function for source 003\n",
      "2022-08-16 14:41:36 (D) | running forward simulation with 'Specfem2D'\n",
      "2022-08-16 14:41:40 (D) | quantifying misfit with 'Default'\n",
      "2022-08-16 14:41:40 (D) | misfit for trial model (f_try) == 8.65E-04\n",
      "2022-08-16 14:41:40 (D) | step length(s) = 0.00E+00, 2.32E+09\n",
      "2022-08-16 14:41:40 (D) | misfit val(s)  = 1.28E-03, 8.65E-04\n",
      "2022-08-16 14:41:40 (I) | try: misfit not bracketed, increasing step length using golden ratio, alpha=3.76E+09\n",
      "2022-08-16 14:41:40 (I) | line search model 'm_try' parameters: \n",
      "2022-08-16 14:41:40 (I) | 5800.00 <= vp <= 5800.00\n",
      "2022-08-16 14:41:40 (I) | 3086.61 <= vs <= 3969.23\n",
      "2022-08-16 14:41:40 (I) | trial step unsuccessful. re-attempting line search\n",
      "2022-08-16 14:41:40 (I) | \n",
      "LINE SEARCH STEP COUNT 02\n",
      "--------------------------------------------------------------------------------\n",
      "2022-08-16 14:41:40 (I) | evaluating objective function for source 001\n",
      "2022-08-16 14:41:40 (D) | running forward simulation with 'Specfem2D'\n",
      "2022-08-16 14:41:44 (D) | quantifying misfit with 'Default'\n",
      "2022-08-16 14:41:44 (I) | evaluating objective function for source 002\n",
      "2022-08-16 14:41:44 (D) | running forward simulation with 'Specfem2D'\n",
      "2022-08-16 14:41:48 (D) | quantifying misfit with 'Default'\n",
      "2022-08-16 14:41:48 (I) | evaluating objective function for source 003\n",
      "2022-08-16 14:41:48 (D) | running forward simulation with 'Specfem2D'\n",
      "2022-08-16 14:41:52 (D) | quantifying misfit with 'Default'\n",
      "2022-08-16 14:41:52 (D) | misfit for trial model (f_try) == 1.73E-03\n",
      "2022-08-16 14:41:52 (D) | step length(s) = 0.00E+00, 2.32E+09, 3.76E+09\n",
      "2022-08-16 14:41:52 (D) | misfit val(s)  = 1.28E-03, 8.65E-04, 1.73E-03\n",
      "2022-08-16 14:41:52 (I) | try: bracket acceptable but step length unreasonable attempting to re-adjust step length alpha=1.59E+09\n",
      "2022-08-16 14:41:52 (I) | line search model 'm_try' parameters: \n",
      "2022-08-16 14:41:52 (I) | 5800.00 <= vp <= 5800.00\n",
      "2022-08-16 14:41:52 (I) | 3325.01 <= vs <= 3698.63\n",
      "2022-08-16 14:41:52 (I) | trial step unsuccessful. re-attempting line search\n",
      "2022-08-16 14:41:52 (I) | \n",
      "LINE SEARCH STEP COUNT 03\n",
      "--------------------------------------------------------------------------------\n",
      "2022-08-16 14:41:52 (I) | evaluating objective function for source 001\n",
      "2022-08-16 14:41:52 (D) | running forward simulation with 'Specfem2D'\n",
      "2022-08-16 14:41:56 (D) | quantifying misfit with 'Default'\n",
      "2022-08-16 14:41:56 (I) | evaluating objective function for source 002\n",
      "2022-08-16 14:41:56 (D) | running forward simulation with 'Specfem2D'\n",
      "2022-08-16 14:42:00 (D) | quantifying misfit with 'Default'\n",
      "2022-08-16 14:42:00 (I) | evaluating objective function for source 003\n",
      "2022-08-16 14:42:00 (D) | running forward simulation with 'Specfem2D'\n",
      "2022-08-16 14:42:03 (D) | quantifying misfit with 'Default'\n",
      "2022-08-16 14:42:03 (D) | misfit for trial model (f_try) == 2.59E-03\n",
      "2022-08-16 14:42:03 (D) | step length(s) = 0.00E+00, 1.59E+09, 2.32E+09, 3.76E+09\n",
      "2022-08-16 14:42:03 (D) | misfit val(s)  = 1.28E-03, 2.59E-03, 8.65E-04, 1.73E-03\n",
      "2022-08-16 14:42:03 (I) | try: bracket acceptable but step length unreasonable attempting to re-adjust step length alpha=2.82E+09\n",
      "2022-08-16 14:42:03 (I) | line search model 'm_try' parameters: \n",
      "2022-08-16 14:42:03 (I) | 5800.00 <= vp <= 5800.00\n",
      "2022-08-16 14:42:03 (I) | 3189.77 <= vs <= 3852.13\n",
      "2022-08-16 14:42:03 (I) | trial step unsuccessful. re-attempting line search\n",
      "2022-08-16 14:42:03 (I) | \n",
      "LINE SEARCH STEP COUNT 04\n",
      "--------------------------------------------------------------------------------\n",
      "2022-08-16 14:42:03 (I) | evaluating objective function for source 001\n",
      "2022-08-16 14:42:03 (D) | running forward simulation with 'Specfem2D'\n",
      "2022-08-16 14:42:07 (D) | quantifying misfit with 'Default'\n",
      "2022-08-16 14:42:07 (I) | evaluating objective function for source 002\n",
      "2022-08-16 14:42:07 (D) | running forward simulation with 'Specfem2D'\n",
      "2022-08-16 14:42:11 (D) | quantifying misfit with 'Default'\n",
      "2022-08-16 14:42:11 (I) | evaluating objective function for source 003\n",
      "2022-08-16 14:42:11 (D) | running forward simulation with 'Specfem2D'\n",
      "2022-08-16 14:42:15 (D) | quantifying misfit with 'Default'\n",
      "2022-08-16 14:42:15 (D) | misfit for trial model (f_try) == 3.46E-03\n",
      "2022-08-16 14:42:15 (D) | step length(s) = 0.00E+00, 1.59E+09, 2.32E+09, 2.82E+09, 3.76E+09\n",
      "2022-08-16 14:42:15 (D) | misfit val(s)  = 1.28E-03, 2.59E-03, 8.65E-04, 3.46E-03, 1.73E-03\n",
      "2022-08-16 14:42:15 (I) | pass: bracket acceptable and step length reasonable. returning minimum line search misfit.\n",
      "2022-08-16 14:42:15 (I) | line search model 'm_try' parameters: \n",
      "2022-08-16 14:42:15 (I) | 5800.00 <= vp <= 5800.00\n",
      "2022-08-16 14:42:15 (I) | 3244.51 <= vs <= 3790.00\n",
      "2022-08-16 14:42:15 (I) | trial step successful. finalizing line search\n",
      "2022-08-16 14:42:15 (I) | \n",
      "FINALIZING LINE SEARCH\n",
      "--------------------------------------------------------------------------------\n",
      "2022-08-16 14:42:15 (I) | writing optimization stats\n",
      "2022-08-16 14:42:15 (I) | renaming current (new) optimization vectors as previous model (old)\n",
      "2022-08-16 14:42:15 (I) | setting accepted trial model (try) as current model (new)\n",
      "2022-08-16 14:42:15 (I) | misfit of accepted trial model is f=8.645E-04\n",
      "2022-08-16 14:42:15 (I) | resetting line search step count to 0\n",
      "2022-08-16 14:42:15 (I) | stop workflow at `stop_after`: perform_line_search\n"
     ]
    }
   ],
   "source": [
    "! seisflows submit"
   ]
  },
  {
   "cell_type": "markdown",
   "metadata": {},
   "source": [
    "From the log statements above, we can see that the SeisFlows line search required 4 trial steps, where it modified values of Vs (shear-wave velocity) until satisfactory reduction in the objective function was met. This was the final step in the iteration, and so the finalization of the line search made preparations for a subsequent iteration. "
   ]
  },
  {
   "cell_type": "code",
   "execution_count": 55,
   "metadata": {},
   "outputs": [
    {
     "name": "stdout",
     "output_type": "stream",
     "text": [
      "alpha.txt\tf_new.txt  f_try.txt  m_new.npz  output_optim.txt\r\n",
      "checkpoint.npz\tf_old.txt  g_old.npz  m_old.npz  p_old.npz\r\n"
     ]
    }
   ],
   "source": [
    "# We can see that we have 'new' and 'old' values for each of the optimization values,\n",
    "# representing the previous model (M00) and the current model (M01).\n",
    "! ls scratch/optimize"
   ]
  },
  {
   "cell_type": "code",
   "execution_count": 56,
   "metadata": {},
   "outputs": [
    {
     "name": "stdout",
     "output_type": "stream",
     "text": [
      "step_count,step_length,gradient_norm_L1,gradient_norm_L2,misfit,if_restarted,slope,theta\r\n",
      "04,2.323E+09,9.243E-05,1.049E-06,1.279E-03,0,8.263E-13,0.000E+00\r\n"
     ]
    }
   ],
   "source": [
    "# The stats/ directory contains text files describing the optimization/line search\n",
    "! cat scratch/optimize/output_optim.txt"
   ]
  },
  {
   "cell_type": "markdown",
   "metadata": {},
   "source": [
    "### 4. Conclusions\n",
    "\n",
    "We've now seen how SeisFlows runs an __Inversion__ workflow using the __Specfem2D__ solver on a __Workstation__ system. More or less, this is all you need to run SeisFlows with any combination of modules. The specificities of a system or numerical solver are already handled internally by SeisFlows, so if you want to use Specmfe3D_Cartesian as your solver, you would only need to run `seisflows par solver specfem3d` at the beginning of your workflow (you will also need to set up your Specfem3D models, similar to what we did for Specfem2D here). To run on a slurm system like Chinook (University of Alaska Fairbanks), you can run `seisflows par system chinook`. "
   ]
  }
 ],
 "metadata": {
  "kernelspec": {
   "display_name": "Python 3 (ipykernel)",
   "language": "python",
   "name": "python3"
  },
  "language_info": {
   "codemirror_mode": {
    "name": "ipython",
    "version": 3
   },
   "file_extension": ".py",
   "mimetype": "text/x-python",
   "name": "python",
   "nbconvert_exporter": "python",
   "pygments_lexer": "ipython3",
   "version": "3.7.12"
  }
 },
 "nbformat": 4,
 "nbformat_minor": 4
}
