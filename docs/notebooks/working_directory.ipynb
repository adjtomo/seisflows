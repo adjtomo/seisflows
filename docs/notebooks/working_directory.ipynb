{
 "cells": [
  {
   "cell_type": "markdown",
   "metadata": {},
   "source": [
    "# Working Directory"
   ]
  },
  {
   "cell_type": "raw",
   "metadata": {},
   "source": [
    "SeisFlows sets it's own working directory when executing a workflow. Below we explore the working directory set up by the `SPECFEM2D-workstation example <specfem2d_example.html>`__. Working directories may change slightly depending on the chosen workflow, but will more or less follow the same structure."
   ]
  },
  {
   "cell_type": "markdown",
   "metadata": {},
   "source": [
    ">__NOTE__: The two SPECFEM2D directories listed below (specfem2d/ & specfem2d_workdir/) are not part of a standard SeisFlows working directory."
   ]
  },
  {
   "cell_type": "code",
   "execution_count": 2,
   "metadata": {},
   "outputs": [
    {
     "name": "stdout",
     "output_type": "stream",
     "text": [
      "/home/bchow/Work/scratch\n",
      "logs\tparameters.yaml  sflog.txt    specfem2d\r\n",
      "output\tscratch\t\t sfstate.txt  specfem2d_workdir\r\n"
     ]
    }
   ],
   "source": [
    "%cd /home/bchow/Work/scratch\n",
    "! ls"
   ]
  },
  {
   "cell_type": "markdown",
   "metadata": {},
   "source": [
    "----------------------\n",
    "## scratch/\n",
    "The active working directory of SeisFlows where all of the heavy lifting takes place. Each module in the SeisFlows package may have it's own sub-directory where it stores temporary work data. Additionally, we have two eval*/ directories where objective function evaluation (eval_func) and gradient evaluation (eval_grad) files are stored."
   ]
  },
  {
   "cell_type": "code",
   "execution_count": 3,
   "metadata": {},
   "outputs": [
    {
     "name": "stdout",
     "output_type": "stream",
     "text": [
      "eval_func  eval_grad  optimize\tpreprocess  solver  system\r\n"
     ]
    }
   ],
   "source": [
    "! ls scratch"
   ]
  },
  {
   "cell_type": "raw",
   "metadata": {},
   "source": [
    ".. warning:: \n",
    "    As suggested by the name, the scratch/ directory is not for permanent storage, and any data contained within is liable to be changed or removed throughout the workflow. Permanent data storage takes place in the **output/** directory."
   ]
  },
  {
   "cell_type": "markdown",
   "metadata": {},
   "source": [
    "### solver/\n",
    "\n",
    "A collection of event-specific directories (one directory per event), each of which is a self contained SPECFEM run directory (i.e., they contain all the necessary files to run SPECFEM binaries within). "
   ]
  },
  {
   "cell_type": "raw",
   "metadata": {},
   "source": [
    ".. note::\n",
    "    The first (alphabetically) solver in this directory is symlinked as the **mainsolver**. The mainsolver is used to run single-process functions (e.g., gradient smoothing). The mainsolver is also useful for scripting, as the name of the first event may be different from workflow to workflow, so **mainsolver** provides a consistent entry point into the solver subdirectories."
   ]
  },
  {
   "cell_type": "code",
   "execution_count": 4,
   "metadata": {},
   "outputs": [
    {
     "name": "stdout",
     "output_type": "stream",
     "text": [
      "001  002  003  mainsolver\r\n"
     ]
    }
   ],
   "source": [
    "! ls scratch/solver"
   ]
  },
  {
   "cell_type": "code",
   "execution_count": 5,
   "metadata": {},
   "outputs": [
    {
     "name": "stdout",
     "output_type": "stream",
     "text": [
      "adj_solver.log\tcombine_vs.log\tfwd_solver.log\tSEM\r\n",
      "bin\t\tDATA\t\tkernel_paths\ttraces\r\n",
      "combine_vp.log\tfwd_mesher.log\tOUTPUT_FILES\r\n"
     ]
    }
   ],
   "source": [
    "! ls scratch/solver/mainsolver"
   ]
  },
  {
   "cell_type": "raw",
   "metadata": {},
   "source": [
    ".. warning::\n",
    "    Each solver directory is constructed by copying the `PATH.SPECFEM_BIN` and `PATH.SPECFEM_DATA` directories into each sub-directory. The user must ensure that these directories do not contain large files (e.g., waveform data, large tomography files), otherwise these will be copied N times, where N is the number of events in your workflow. This can quickly run up against storage issues."
   ]
  },
  {
   "cell_type": "markdown",
   "metadata": {},
   "source": [
    "The bin/, DATA/ and OUTPUT_FILES/ directories are the same as those found in SPECFEM. The SEM file defines the locations of the adjoint sources, which is dictated by SPECFEM. The traces/ directory contains all of the output waveforms required by this event. They are separated into observed (obs), synthetic (syn) and adjoint (adj) waveforms. "
   ]
  },
  {
   "cell_type": "code",
   "execution_count": 6,
   "metadata": {},
   "outputs": [
    {
     "name": "stdout",
     "output_type": "stream",
     "text": [
      "adj  obs  syn\r\n"
     ]
    }
   ],
   "source": [
    "! ls scratch/solver/mainsolver/traces"
   ]
  },
  {
   "cell_type": "code",
   "execution_count": 7,
   "metadata": {},
   "outputs": [
    {
     "name": "stdout",
     "output_type": "stream",
     "text": [
      "AA.S0001.BXY.semd\r\n"
     ]
    }
   ],
   "source": [
    "! ls scratch/solver/mainsolver/traces/obs"
   ]
  },
  {
   "cell_type": "code",
   "execution_count": 8,
   "metadata": {},
   "outputs": [
    {
     "name": "stdout",
     "output_type": "stream",
     "text": [
      "   251.39999999999998         -1.1814422395268879E-005\r\n",
      "   251.45999999999998         -1.1800275583562581E-005\r\n",
      "   251.51999999999998         -1.1769315129746346E-005\r\n",
      "   251.57999999999998         -1.1721248953632887E-005\r\n",
      "   251.63999999999999         -1.1655830825336088E-005\r\n",
      "   251.69999999999999         -1.1572872866742356E-005\r\n",
      "   251.75999999999999         -1.1472248505521453E-005\r\n",
      "   251.81999999999999         -1.1353902449899163E-005\r\n",
      "   251.88000000000000         -1.1217847351013855E-005\r\n",
      "   251.94000000000000         -1.1064166223014224E-005\r\n"
     ]
    }
   ],
   "source": [
    "# These waveforms are saved into a two-column ASCII format\n",
    "! tail scratch/solver/mainsolver/traces/obs/AA.S0001.BXY.semd"
   ]
  },
  {
   "cell_type": "markdown",
   "metadata": {},
   "source": [
    "### optimize/\n",
    "\n",
    "Values relating to the optimization algorithm. These variables define model vectors, misfits, gradient directions and search directions. Optimization vectors are stored as NumPy arrays and tagged with the .npy suffix. Optimization scalars are stored as text files and tagged with the .txt suffix.\n",
    "\n",
    "Optimization Variable Names are described as:"
   ]
  },
  {
   "cell_type": "raw",
   "metadata": {},
   "source": [
    "* m_new: current model vector\n",
    "* m_old: previous model vector \n",
    "* m_try: line search model vector \n",
    "* f_new: current objective function value  \n",
    "* f_old: previous objective function value  \n",
    "* f_try: line search function value  \n",
    "* g_new: current gradient direction vector \n",
    "* g_old: previous gradient direction vector \n",
    "* p_new: current search direction vector \n",
    "* p_old: previous search direction vector  "
   ]
  },
  {
   "cell_type": "code",
   "execution_count": 9,
   "metadata": {},
   "outputs": [
    {
     "name": "stdout",
     "output_type": "stream",
     "text": [
      "alpha.txt\tf_new.txt  f_try.txt  m_new.npz  output_optim.txt\r\n",
      "checkpoint.npz\tf_old.txt  g_old.npz  m_old.npz  p_old.npz\r\n"
     ]
    }
   ],
   "source": [
    "! ls scratch/optimize"
   ]
  },
  {
   "cell_type": "code",
   "execution_count": 10,
   "metadata": {},
   "outputs": [
    {
     "name": "stdout",
     "output_type": "stream",
     "text": [
      "[[3500.0027437  3499.99441921 3499.90777902 ... 3499.77655378\n",
      "  3499.9021825  3499.99078301]]\n"
     ]
    }
   ],
   "source": [
    "import numpy as np\n",
    "m_new = np.load(\"scratch/optimize/m_new.npz\")\n",
    "print(m_new[\"vs\"])"
   ]
  },
  {
   "cell_type": "code",
   "execution_count": 11,
   "metadata": {},
   "outputs": [
    {
     "name": "stdout",
     "output_type": "stream",
     "text": [
      "8.645199999999999153e-04\r\n"
     ]
    }
   ],
   "source": [
    "! cat scratch/optimize/f_new.txt"
   ]
  },
  {
   "cell_type": "markdown",
   "metadata": {},
   "source": [
    "The 'checkpoint.npz' file contains information about the state of the line search (controlled by the Optimization module). It is used to resume failed or stopped line searches with minimal redundant use of computational resources."
   ]
  },
  {
   "cell_type": "code",
   "execution_count": 37,
   "metadata": {},
   "outputs": [
    {
     "name": "stdout",
     "output_type": "stream",
     "text": [
      "['restarted', 'func_vals', 'step_lens', 'gtg', 'gtp', 'step_count']\n",
      "step count:  0\n",
      "step lengths:  [0.00000000e+00 2.32268310e+09 3.75818023e+09 1.59087505e+09\n",
      " 2.82031810e+09]\n",
      "misfit:  [0.00127902 0.00086452 0.00172904 0.00259356 0.00345808]\n"
     ]
    }
   ],
   "source": [
    "line_search = np.load(\"scratch/optimize/checkpoint.npz\")\n",
    "\n",
    "print(vars(line_search)[\"files\"])\n",
    "\n",
    "print(\"step count: \", line_search[\"step_count\"])\n",
    "print(\"step lengths: \", line_search[\"step_lens\"])\n",
    "print(\"misfit: \", line_search[\"func_vals\"])"
   ]
  },
  {
   "cell_type": "markdown",
   "metadata": {},
   "source": [
    "### eval_func/ & eval_grad/\n",
    "\n",
    "Scratch directories containing objective function evaluation and gradient evaluation files. These include (1) the current **model** being used for misfit evaluation, and (2) a **residual** file which defines the misfit for each event. **eval_grad/** also contains **kernels** which define per-event kernels which are summed and manipulated with the postprocess module."
   ]
  },
  {
   "cell_type": "code",
   "execution_count": 12,
   "metadata": {},
   "outputs": [
    {
     "name": "stdout",
     "output_type": "stream",
     "text": [
      "model  residuals.txt\n",
      "\n",
      "gradient  kernels  misfit_kernel  model  residuals.txt\n"
     ]
    }
   ],
   "source": [
    "! ls scratch/eval_func\n",
    "! echo\n",
    "! ls scratch/eval_grad"
   ]
  },
  {
   "cell_type": "code",
   "execution_count": 17,
   "metadata": {},
   "outputs": [
    {
     "name": "stdout",
     "output_type": "stream",
     "text": [
      "2.41E-02\r\n",
      "2.14E-02\r\n",
      "1.55E-02\r\n"
     ]
    }
   ],
   "source": [
    "! cat scratch/eval_grad/residuals.txt"
   ]
  },
  {
   "cell_type": "code",
   "execution_count": 19,
   "metadata": {},
   "outputs": [
    {
     "name": "stdout",
     "output_type": "stream",
     "text": [
      "001  002  003\r\n"
     ]
    }
   ],
   "source": [
    "! ls scratch/eval_grad/kernels"
   ]
  },
  {
   "cell_type": "code",
   "execution_count": 20,
   "metadata": {},
   "outputs": [
    {
     "name": "stdout",
     "output_type": "stream",
     "text": [
      "proc000000_bulk_beta_kernel.bin  proc000000_rhop_kernel.bin\r\n",
      "proc000000_bulk_c_kernel.bin\t proc000000_vp_kernel.bin\r\n",
      "proc000000_kappa_kernel.bin\t proc000000_vs_kernel.bin\r\n",
      "proc000000_mu_kernel.bin\t proc000000_weights_kernel.bin\r\n",
      "proc000000_rho_kernel.bin\r\n"
     ]
    }
   ],
   "source": [
    "! ls scratch/eval_grad/kernels/001"
   ]
  },
  {
   "cell_type": "markdown",
   "metadata": {},
   "source": [
    "### system & preprocess\n",
    "\n",
    "These two directories are empty in our example problem, but are catch-all directories where module-specific files can be output. If you are extending SeisFlows with other base or subclasses, it is preferable to adhere to this structure where each module only interacts with it's own directory.\n",
    "\n",
    "When `Pyaflowa` is chosen as the preprocess module, it stores figures, log files, and data (in ASDFDataSets) within its scratch directory. It also specifies parameters for exporting these scratch files to disk for more permanent storage."
   ]
  },
  {
   "cell_type": "markdown",
   "metadata": {},
   "source": [
    "---------------------\n",
    "##  output/\n",
    "Output files to be permanently saved (e.g., models, graidents, traces) can be located in this directory. These are tagged in ascending order. Because we did not run the finalization task in our SPECFEM2D problem, the output directory only contains our initial model."
   ]
  },
  {
   "cell_type": "code",
   "execution_count": 22,
   "metadata": {},
   "outputs": [
    {
     "name": "stdout",
     "output_type": "stream",
     "text": [
      "MODEL_INIT\r\n"
     ]
    }
   ],
   "source": [
    "! ls output"
   ]
  },
  {
   "cell_type": "code",
   "execution_count": 23,
   "metadata": {},
   "outputs": [
    {
     "name": "stdout",
     "output_type": "stream",
     "text": [
      "proc000000_vp.bin  proc000000_vs.bin\r\n"
     ]
    }
   ],
   "source": [
    "! ls output/MODEL_INIT"
   ]
  },
  {
   "cell_type": "markdown",
   "metadata": {},
   "source": [
    "-----------------------------\n",
    "## logs/\n",
    "Where any text logs are stored. If running on a cluster, all submitted jobs will be instructed to write their logs into this directory. Additionally, if a workflow is resumed (previous log files exist in the other directory) copies are saved to this directory.\n"
   ]
  },
  {
   "cell_type": "code",
   "execution_count": 24,
   "metadata": {},
   "outputs": [
    {
     "name": "stdout",
     "output_type": "stream",
     "text": [
      "0001_00.log  0002_02.log  0004_01.log  0006_00.log\t    parameters_002.yaml\r\n",
      "0001_01.log  0003_00.log  0004_02.log  0006_01.log\t    parameters_003.yaml\r\n",
      "0001_02.log  0003_01.log  0005_00.log  0006_02.log\t    sflog_001.txt\r\n",
      "0002_00.log  0003_02.log  0005_01.log  0007_00.log\t    sflog_002.txt\r\n",
      "0002_01.log  0004_00.log  0005_02.log  parameters_001.yaml  sflog_003.txt\r\n"
     ]
    }
   ],
   "source": [
    "! ls logs"
   ]
  },
  {
   "cell_type": "markdown",
   "metadata": {},
   "source": [
    "----------------------------\n",
    "## sflog.txt\n",
    "\n",
    "The main log file for SeisFlows, where all log statements written to stdout are recorded during a workflow. Allows a user to come back to a workflow and understand the tasks completed and any important information collected during the workflow"
   ]
  },
  {
   "cell_type": "code",
   "execution_count": 25,
   "metadata": {},
   "outputs": [
    {
     "name": "stdout",
     "output_type": "stream",
     "text": [
      "2022-08-16 14:32:48 (I) | \r\n",
      "================================================================================\r\n",
      "                         SETTING UP INVERSION WORKFLOW                          \r\n",
      "================================================================================\r\n",
      "2022-08-16 14:32:55 (D) | running setup for module 'system.Workstation'\r\n",
      "2022-08-16 14:32:57 (D) | copying par/log file to: /home/bchow/Work/scratch/logs/sflog_001.txt\r\n",
      "2022-08-16 14:32:57 (D) | copying par/log file to: /home/bchow/Work/scratch/logs/parameters_001.yaml\r\n",
      "2022-08-16 14:32:57 (D) | running setup for module 'solver.Specfem2D'\r\n",
      "2022-08-16 14:32:57 (I) | initializing 3 solver directories\r\n",
      "2022-08-16 14:32:57 (D) | initializing solver directory source: 001\r\n",
      "2022-08-16 14:33:04 (D) | linking source '001' as 'mainsolver'\r\n",
      "2022-08-16 14:33:04 (D) | initializing solver directory source: 002\r\n",
      "2022-08-16 14:33:09 (D) | initializing solver directory source: 003\r\n",
      "2022-08-16 14:33:16 (D) | running setup for module 'preprocess.Default'\r\n",
      "2022-08-16 14:33:16 (D) | running setup for module 'optimize.Gradient'\r\n",
      "2022-08-16 14:33:17 (I) | no optimization checkpoint found, assuming first run\r\n",
      "2022-08-16 14:33:17 (I) | re-loading optimization module from checkpoint\r\n",
      "2022-08-16 14:33:17 (I) | \r\n",
      "////////////////////////////////////////////////////////////////////////////////\r\n",
      "                              RUNNING ITERATION 01                              \r\n",
      "////////////////////////////////////////////////////////////////////////////////\r\n",
      "2022-08-16 14:33:17 (I) | \r\n",
      "================================================================================\r\n",
      "                           RUNNING INVERSION WORKFLOW                           \r\n",
      "================================================================================\r\n",
      "2022-08-16 14:33:17 (I) | \r\n",
      "////////////////////////////////////////////////////////////////////////////////\r\n",
      "                      EVALUATING MISFIT FOR INITIAL MODEL                       \r\n",
      "////////////////////////////////////////////////////////////////////////////////\r\n",
      "2022-08-16 14:33:17 (I) | checking initial model parameters\r\n",
      "2022-08-16 14:33:17 (I) | 5800.00 <= vp <= 5800.00\r\n",
      "2022-08-16 14:33:17 (I) | 2600.00 <= rho <= 2600.00\r\n",
      "2022-08-16 14:33:17 (I) | 3500.00 <= vs <= 3500.00\r\n",
      "2022-08-16 14:33:17 (I) | checking true/target model parameters\r\n",
      "2022-08-16 14:33:17 (I) | 5900.00 <= vp <= 5900.00\r\n",
      "2022-08-16 14:33:17 (I) | 2600.00 <= rho <= 2600.00\r\n",
      "2022-08-16 14:33:17 (I) | 3550.00 <= vs <= 3550.00\r\n",
      "2022-08-16 14:33:17 (I) | preparing observation data for source 001\r\n",
      "2022-08-16 14:33:17 (I) | running forward simulation w/ target model for 001\r\n",
      "2022-08-16 14:33:21 (I) | evaluating objective function for source 001\r\n",
      "2022-08-16 14:33:21 (D) | running forward simulation with 'Specfem2D'\r\n",
      "2022-08-16 14:33:25 (D) | quantifying misfit with 'Default'\r\n",
      "2022-08-16 14:33:25 (I) | preparing observation data for source 002\r\n",
      "2022-08-16 14:33:25 (I) | running forward simulation w/ target model for 002\r\n",
      "2022-08-16 14:33:29 (I) | evaluating objective function for source 002\r\n",
      "2022-08-16 14:33:29 (D) | running forward simulation with 'Specfem2D'\r\n",
      "2022-08-16 14:33:33 (D) | quantifying misfit with 'Default'\r\n",
      "2022-08-16 14:33:33 (I) | preparing observation data for source 003\r\n",
      "2022-08-16 14:33:33 (I) | running forward simulation w/ target model for 003\r\n",
      "2022-08-16 14:33:36 (I) | evaluating objective function for source 003\r\n"
     ]
    }
   ],
   "source": [
    "! head -50 sflog.txt"
   ]
  },
  {
   "cell_type": "markdown",
   "metadata": {},
   "source": [
    "----------------------------\n",
    "## sfstate.txt\n",
    "\n",
    "A state file which tracks the progress of a workflow, allowing the User to quickly resumed stopped or failed workflows without wasting computational resources. The State file simply contains the names of functions contained in the Workflow task list, as well as their respective status, which can be 'completed', 'failed', or not available."
   ]
  },
  {
   "cell_type": "code",
   "execution_count": 27,
   "metadata": {},
   "outputs": [
    {
     "name": "stdout",
     "output_type": "stream",
     "text": [
      "# SeisFlows State File\r\n",
      "# Tue Aug 16 14:33:17 2022\r\n",
      "# Acceptable states: 'completed', 'failed'\r\n",
      "# =======================================\r\n",
      "evaluate_initial_misfit: completed\r\n",
      "run_adjoint_simulations: completed\r\n",
      "postprocess_event_kernels: completed\r\n",
      "evaluate_gradient_from_kernels: completed\r\n",
      "initialize_line_search: completed\r\n",
      "perform_line_search: completed\r\n",
      "iteration: 1"
     ]
    }
   ],
   "source": [
    "! cat sfstate.txt"
   ]
  },
  {
   "cell_type": "markdown",
   "metadata": {},
   "source": [
    "When submitting a workflow with an existing state file, the workflow will check the status of each function. 'Completed' functions will be skipped over. 'Failed' functions will be re-run. Users can delete lines from the state file or change status' manually to re-run tasks within the list, taking care about the current configuration of the working directory, which is intrinsically tied to the task list.\n",
    "\n",
    "For 'Inversion' workflows, the current 'Iteration' is also saved, meaning re-submitted workflows will start at the previously checkpointed iteration. "
   ]
  }
 ],
 "metadata": {
  "kernelspec": {
   "display_name": "Python 3",
   "language": "python",
   "name": "python3"
  },
  "language_info": {
   "codemirror_mode": {
    "name": "ipython",
    "version": 3
   },
   "file_extension": ".py",
   "mimetype": "text/x-python",
   "name": "python",
   "nbconvert_exporter": "python",
   "pygments_lexer": "ipython3",
   "version": "3.7.6"
  }
 },
 "nbformat": 4,
 "nbformat_minor": 4
}
