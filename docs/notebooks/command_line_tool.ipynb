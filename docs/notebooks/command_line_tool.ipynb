{
 "cells": [
  {
   "cell_type": "markdown",
   "metadata": {},
   "source": [
    "Commmand Line Tool\n",
    "==========================\n",
    "`SeisFlows` is primarily interacted with via command line calls and a parameter file. In this page we explain how to use this command line tool to create a SeisFlows parameters file, edit and configure it, and establish a SeisFlows working directory. We also provide explanation for other command line options which act as helper utilities for improved package control.\n",
    " \n",
    "After installing SeisFlows into a Conda environment, the `seisflows` command will be available directly from the command line. To access the help dialogue, you can type `seisflows` or `seisflows -h`"
   ]
  },
  {
   "cell_type": "code",
   "execution_count": 1,
   "metadata": {},
   "outputs": [
    {
     "name": "stdout",
     "output_type": "stream",
     "text": [
      "usage: seisflows [-h] [-w [WORKDIR]] [-p [PARAMETER_FILE]]\r\n",
      "                 {setup,configure,swap,init,submit,resume,restart,clean,par,sempar,check,print,reset,debug,examples}\r\n",
      "                 ...\r\n",
      "\r\n",
      "================================================================================\r\n",
      "\r\n",
      "                     SeisFlows: Waveform Inversion Package                      \r\n",
      "\r\n",
      "================================================================================\r\n",
      "\r\n",
      "optional arguments:\r\n",
      "  -h, --help            show this help message and exit\r\n",
      "  -w [WORKDIR], --workdir [WORKDIR]\r\n",
      "                        The SeisFlows working directory, default: cwd\r\n",
      "  -p [PARAMETER_FILE], --parameter_file [PARAMETER_FILE]\r\n",
      "                        Parameters file, default: 'parameters.yaml'\r\n",
      "\r\n",
      "command:\r\n",
      "  Available SeisFlows arguments and their intended usages\r\n",
      "\r\n",
      "    setup               Setup working directory from scratch\r\n",
      "    configure           Fill parameter file with defaults\r\n",
      "    swap                Swap module parameters in an existing parameter file\r\n",
      "    init                Initiate working environment\r\n",
      "    submit              Submit initial workflow to system\r\n",
      "    resume              Re-submit previous workflow to system\r\n",
      "    restart             Remove current environment and submit new workflow\r\n",
      "    clean               Remove files relating to an active working environment\r\n",
      "    par                 View and edit SeisFlows parameter file\r\n",
      "    sempar              View and edit SPECFEM parameter file\r\n",
      "    check               Check state of an active environment\r\n",
      "    print               Print information related to an active environment\r\n",
      "    reset               Reset modules within an active state\r\n",
      "    debug               Start interactive debug environment\r\n",
      "    examples            Look at and run pre-configured example problems\r\n",
      "\r\n",
      "'seisflows [command] -h' for more detailed descriptions of each command.\r\n"
     ]
    }
   ],
   "source": [
    "! seisflows"
   ]
  },
  {
   "cell_type": "markdown",
   "metadata": {},
   "source": [
    "### Setting up \n",
    "#### seisflows setup\n",
    "\n",
    "The first step of any SeisFlows workflow is to setting up a parameter file. The `seisflows setup` command copies in a template parameter file."
   ]
  },
  {
   "cell_type": "code",
   "execution_count": 3,
   "metadata": {},
   "outputs": [
    {
     "name": "stdout",
     "output_type": "stream",
     "text": [
      "/Users/Chow/Scratch\n"
     ]
    }
   ],
   "source": [
    "%cd ~/Scratch\n",
    "! rm *\n",
    "! ls"
   ]
  },
  {
   "cell_type": "code",
   "execution_count": 4,
   "metadata": {},
   "outputs": [
    {
     "name": "stdout",
     "output_type": "stream",
     "text": [
      "usage: seisflows setup [-h] [-f]\r\n",
      "\r\n",
      "In the specified working directory, copy template parameter file containing\r\n",
      "only module choices, and symlink source code for both the base and super\r\n",
      "repositories for easy edit access. If a parameter file matching the provided\r\n",
      "name exists in the working directory, a prompt will appear asking the user if\r\n",
      "they want to overwrite.\r\n",
      "\r\n",
      "optional arguments:\r\n",
      "  -h, --help   show this help message and exit\r\n",
      "  -f, --force  automatically overwrites existing parameter file\r\n"
     ]
    }
   ],
   "source": [
    "! seisflows setup -h"
   ]
  },
  {
   "cell_type": "code",
   "execution_count": 18,
   "metadata": {},
   "outputs": [
    {
     "name": "stdout",
     "output_type": "stream",
     "text": [
      "creating parameter file: parameters.yaml\r\n"
     ]
    }
   ],
   "source": [
    "# The '-f' flag (overwrite) will overwrite any existing parameter file\n",
    "! seisflows setup -f"
   ]
  },
  {
   "cell_type": "markdown",
   "metadata": {},
   "source": [
    "Having a look at the template `parameters.yaml` file that was just generated, we can see that it contains some pre-defined default values for the core SeisFlows modules. Each of these modules defines it's own set of unique parameters which make up a workflow."
   ]
  },
  {
   "cell_type": "code",
   "execution_count": 19,
   "metadata": {},
   "outputs": [
    {
     "name": "stdout",
     "output_type": "stream",
     "text": [
      "parameters.yaml sflog.txt\n",
      "      30 parameters.yaml\n"
     ]
    }
   ],
   "source": [
    "! ls\n",
    "! wc -l parameters.yaml  # List the number of lines in the file"
   ]
  },
  {
   "cell_type": "code",
   "execution_count": 20,
   "metadata": {},
   "outputs": [
    {
     "name": "stdout",
     "output_type": "stream",
     "text": [
      "# //////////////////////////////////////////////////////////////////////////////\r\n",
      "#\r\n",
      "#                        SeisFlows YAML Parameter File\r\n",
      "#\r\n",
      "# //////////////////////////////////////////////////////////////////////////////\r\n",
      "#\r\n",
      "# Modules correspond to the structure of the source code, and determine\r\n",
      "# SeisFlows' behavior at runtime. Each module requires its own sub-parameters.\r\n",
      "#\r\n",
      "# .. rubric::\r\n",
      "#   - To determine available options for modules listed below, run:\r\n",
      "#       > seisflows print modules\r\n",
      "#   - To auto-fill with docstrings and default values (recommended), run:\r\n",
      "#       > seisflows configure\r\n",
      "#   - To set values as NoneType, use: null\r\n",
      "#   - To set values as infinity, use: inf\r\n",
      "#\r\n",
      "#                                    MODULES\r\n",
      "#                                    ///////\r\n",
      "# workflow (str):    The types and order of functions for running SeisFlows\r\n",
      "# system (str):      Computer architecture of the system being used\r\n",
      "# solver (str):      External numerical solver to use for waveform simulations\r\n",
      "# preprocess (str):  Preprocessing schema for waveform data\r\n",
      "# optimize (str):    Optimization algorithm for the inverse problem\r\n",
      "# ==============================================================================\r\n",
      "workflow: forward\r\n",
      "system: workstation\r\n",
      "solver: specfem2d\r\n",
      "preprocess: default\r\n",
      "optimize: gradient\r\n"
     ]
    }
   ],
   "source": [
    "! cat parameters.yaml"
   ]
  },
  {
   "cell_type": "markdown",
   "metadata": {},
   "source": [
    "#### seisflows configure\n",
    "\n",
    "We can now run the `seisflows configure` command which will build out our parameter file based on the module choices provided in the parameter file."
   ]
  },
  {
   "cell_type": "code",
   "execution_count": 8,
   "metadata": {},
   "outputs": [
    {
     "name": "stdout",
     "output_type": "stream",
     "text": [
      "usage: seisflows configure [-h] [-a]\r\n",
      "\r\n",
      "SeisFlows parameter files will vary depending on chosen modules and their\r\n",
      "respective required parameters. This function will dynamically traverse the\r\n",
      "source code and generate a template parameter file based on module choices.\r\n",
      "The resulting file incldues docstrings and type hints for each parameter.\r\n",
      "Optional parameters will be set with default values and required parameters\r\n",
      "and paths will be marked appropriately. Required parameters must be set before\r\n",
      "a workflow can be submitted.\r\n",
      "\r\n",
      "optional arguments:\r\n",
      "  -h, --help            show this help message and exit\r\n",
      "  -a, --absolute_paths  Set default paths relative to cwd\r\n"
     ]
    }
   ],
   "source": [
    "! seisflows configure -h"
   ]
  },
  {
   "cell_type": "code",
   "execution_count": 21,
   "metadata": {},
   "outputs": [],
   "source": [
    "! seisflows configure"
   ]
  },
  {
   "cell_type": "code",
   "execution_count": 22,
   "metadata": {},
   "outputs": [
    {
     "name": "stdout",
     "output_type": "stream",
     "text": [
      "#    :param smooth_v: Gaussian half-width for vertical smoothing in units\n",
      "#        of meters.\n",
      "#    :type components: str\n",
      "#    :param components: components to consider and tag data with. Should be\n",
      "#        string of letters such as 'RTZ'\n",
      "#    :type solver_io: str\n",
      "#    :param solver_io: format of model/kernel/gradient files expected by the\n",
      "#        numerical solver. Available: ['fortran_binary': default .bin files].\n",
      "#        TODO: ['adios': ADIOS formatted files]\n",
      "#    :type source_prefix: str\n",
      "#    :param source_prefix: prefix of source/event/earthquake files. If None,\n",
      "#        will attempt to guess based on the specific solver chosen.\n",
      "#    :type mpiexec: str\n",
      "#    :param mpiexec: MPI executable used to run parallel processes. Should also\n",
      "#        be defined for the system module\n",
      "#\n",
      "#        \n",
      "#    Solver SPECFEM2D\n",
      "#    ----------------\n",
      "#    SPECFEM2D-specific alterations to the base SPECFEM module\n",
      "#\n",
      "#    Parameters\n",
      "#    ----------\n",
      "#    :type source_prefix: str\n",
      "#    :param source_prefix: Prefix of source files in path SPECFEM_DATA. Defaults\n",
      "#        to 'SOURCE'\n",
      "#    :type multiples: bool\n",
      "#    :param multiples: set an absorbing top-boundary condition\n",
      "#\n",
      "#        \n",
      "# =============================================================================\n",
      "data_format: ascii\n",
      "materials: acoustic\n",
      "density: False\n",
      "attenuation: False\n",
      "smooth_h: 0.0\n",
      "smooth_v: 0.0\n",
      "components: ZNE\n",
      "source_prefix: SOURCE\n",
      "multiples: False\n",
      "# =============================================================================\n",
      "#\n",
      "#    Default Preprocess\n",
      "#    ------------------\n",
      "#    Data processing for seismic traces, with options for data misfit,\n",
      "#    filtering, normalization and muting.\n",
      "#\n",
      "#    Parameters\n",
      "#    ----------\n",
      "#    :type data_format: str\n",
      "#    :param data_format: data format for reading traces into memory. For\n",
      "#        available see: seisflows.plugins.preprocess.readers\n",
      "#    :type misfit: str\n",
      "#    :param misfit: misfit function for waveform comparisons. For available\n",
      "#        see seisflows.plugins.preprocess.misfit\n",
      "#    :type backproject: str\n",
      "#    :param backproject: backprojection function for migration, or the\n",
      "#        objective function in FWI. For available see\n",
      "#        seisflows.plugins.preprocess.adjoint\n",
      "#    :type normalize: str\n",
      "#    :param normalize: Data normalization parameters used to normalize the\n",
      "#        amplitudes of waveforms. Choose from two sets:\n",
      "#        ENORML1: normalize per event by L1 of traces; OR\n",
      "#        ENORML2: normalize per event by L2 of traces;\n",
      "#        &\n",
      "#        TNORML1: normalize per trace by L1 of itself; OR\n",
      "#        TNORML2: normalize per trace by L2 of itself\n",
      "#    :type filter: str\n",
      "#    :param filter: Data filtering type, available options are:\n",
      "#        BANDPASS (req. MIN/MAX PERIOD/FREQ);\n",
      "#        LOWPASS (req. MAX_FREQ or MIN_PERIOD);\n",
      "#        HIGHPASS (req. MIN_FREQ or MAX_PERIOD)\n",
      "#    :type min_period: float\n",
      "#    :param min_period: Minimum filter period applied to time series.\n",
      "#        See also MIN_FREQ, MAX_FREQ, if User defines FREQ parameters, they\n",
      "#        will overwrite PERIOD parameters.\n",
      "#    :type max_period: float\n",
      "#    :param max_period: Maximum filter period applied to time series. See\n",
      "#        also MIN_FREQ, MAX_FREQ, if User defines FREQ parameters, they will\n",
      "#        overwrite PERIOD parameters.\n",
      "#    :type min_freq: float\n",
      "#    :param min_freq: Maximum filter frequency applied to time series,\n",
      "\n",
      "     337 parameters.yaml\n"
     ]
    }
   ],
   "source": [
    "! head -200 parameters.yaml | tail -n 82  # have a look at the middle of the file\n",
    "! echo\n",
    "! wc -l parameters.yaml"
   ]
  },
  {
   "cell_type": "markdown",
   "metadata": {},
   "source": [
    "We can see that our parameter file is over 300 lines, a bit too cumbersome to print on the page. The length of the file mostly arises from the header, as each parameter gets it's own entry with the parameter's type, docstring, and any available options. Each set of parameters are separated by their relevant module, and their respective docstrings should help users understand how and when they are used in a SeisFlows workflow.\n",
    "\n",
    ">__NOTE__: Many parameters have sensible default values chosen, but it is up to the user to decide which parameters are relevant to them, and how they would like them set. Internal check functions throughout the package will raise AssertionErrors for incorrectly or improperly set parameters."
   ]
  },
  {
   "cell_type": "markdown",
   "metadata": {},
   "source": [
    "### Editing the parameter file\n",
    "#### seisflows par\n",
    "\n",
    "You can always open your favorite text editor to make changes to the parameter file, however the `seisflows par` command makes things easier by allowing you to view and edit values from the command line. This makes it convenient to change parameters quickly and allows you to script your parameter file setup for improved reproducibility. "
   ]
  },
  {
   "cell_type": "code",
   "execution_count": 23,
   "metadata": {},
   "outputs": [
    {
     "name": "stdout",
     "output_type": "stream",
     "text": [
      "usage: seisflows par [-h] [-p] [parameter] [value]\r\n",
      "\r\n",
      "Directly edit values in the parameter file by providing the parameter and\r\n",
      "corresponding value. If no value is provided, will simply print out the\r\n",
      "current value of the given parameter. Works also with path names.\r\n",
      "\r\n",
      "positional arguments:\r\n",
      "  parameter         Parameter to edit or view, (case independent).\r\n",
      "  value             Optional value to set parameter to. If not given, will\r\n",
      "                    print out current parameter. If given, will replace\r\n",
      "                    current parameter with new value. Set as 'null' for\r\n",
      "                    NoneType and set '' for empty string\r\n",
      "\r\n",
      "optional arguments:\r\n",
      "  -h, --help        show this help message and exit\r\n",
      "  -p, --skip_print  Skip the print statement which is typically sent to stdout\r\n",
      "                    after changing parameters.\r\n"
     ]
    }
   ],
   "source": [
    "! seisflows par -h"
   ]
  },
  {
   "cell_type": "markdown",
   "metadata": {},
   "source": [
    "The call structure of the `par` command is provided in the help message:\n",
    "\n",
    "> seisflows par [parameter] [value (optional)]\n",
    "\n",
    "We can view parameters by providing a single 'parameter' argument to the `par` command"
   ]
  },
  {
   "cell_type": "code",
   "execution_count": 24,
   "metadata": {},
   "outputs": [
    {
     "name": "stdout",
     "output_type": "stream",
     "text": [
      "ntask: 1\r\n"
     ]
    }
   ],
   "source": [
    "! seisflows par ntask  # ntask is the number of tasks/events to be run during a workflow"
   ]
  },
  {
   "cell_type": "markdown",
   "metadata": {},
   "source": [
    "We can change a given parameter from it's original value by providing a second 'value' argument"
   ]
  },
  {
   "cell_type": "code",
   "execution_count": 25,
   "metadata": {},
   "outputs": [
    {
     "name": "stdout",
     "output_type": "stream",
     "text": [
      "ntask: 1 -> 3\r\n"
     ]
    }
   ],
   "source": [
    "! seisflows par ntask 3"
   ]
  },
  {
   "cell_type": "markdown",
   "metadata": {},
   "source": [
    "#### seisflows sempar\n",
    "\n",
    "The `seisflows sempar` command behaves the same as the `par` command, except is used to edit a SPECFEM2D/3D/3D_GLOBE Par_file. It has the same call structure as `par`.\n",
    "\n",
    "#### seisflows check\n",
    "\n",
    "Each module contains it's own internal set of parameter checks which make sure that reasonable parameter values and types have been chosen. This is especially important when submitting large jobs on clusters as the `check` function will allow the User to catch errors without having to wait on queue times or waste computational resources."
   ]
  },
  {
   "cell_type": "code",
   "execution_count": 26,
   "metadata": {},
   "outputs": [
    {
     "name": "stdout",
     "output_type": "stream",
     "text": [
      "\r\n",
      "================================================================================\r\n",
      "                                PARAMETER ERRROR                                \r\n",
      "                                ////////////////                                \r\n",
      "`path_specfem_bin` must exist and must point to directory containing SPECFEM\r\n",
      "executables\r\n",
      "================================================================================\r\n"
     ]
    }
   ],
   "source": [
    "! seisflows check"
   ]
  },
  {
   "cell_type": "markdown",
   "metadata": {},
   "source": [
    "Here we can see that a given path has not been set correctly in the parameter file."
   ]
  },
  {
   "cell_type": "markdown",
   "metadata": {},
   "source": [
    "#### seisflows swap\n",
    "\n",
    "The `seisflows swap` command allows you to swap out a set of module parameters without affecting other parts of the parameter file. Some cases for when this might be useful include switching from a 'workstation' system to a 'cluster' system, or swapping solvers from 'specfem2d' to 'specfem3d'."
   ]
  },
  {
   "cell_type": "code",
   "execution_count": 1,
   "metadata": {},
   "outputs": [
    {
     "name": "stdout",
     "output_type": "stream",
     "text": [
      "usage: seisflows swap [-h] [module] [classname]\r\n",
      "\r\n",
      "During workflow development, it may be necessary to swap between different\r\n",
      "sub-modules (e.g., system.workstation -> system.cluster). However this would\r\n",
      "typically involving re-generating and re-filling a parameter file. The 'swap'\r\n",
      "function makes it easier to swap parameters between modules.\r\n",
      "\r\n",
      "positional arguments:\r\n",
      "  module      Module name to swap\r\n",
      "  classname   Classname to swap to\r\n",
      "\r\n",
      "optional arguments:\r\n",
      "  -h, --help  show this help message and exit\r\n"
     ]
    }
   ],
   "source": [
    "! seisflows swap -h"
   ]
  },
  {
   "cell_type": "markdown",
   "metadata": {},
   "source": [
    "### Running workflows\n",
    "#### seisflows submit\n",
    "\n",
    "To run SeisFlows, we use the `submit` call. This will submit the `workflow` to the `system` and continue until a User-defined stop criteria is met. \n",
    "\n",
    "Under the hood, the `submit` function will differ depending on the chosen `system`. For Users running on laptops and workstations, `submit` will simply launch a Python process and step through the tasks in the `workflow` task list. On clusters, `submit` will launch a master job on a compute node, which will itself step through tasks in the task list, ensuring that no processing is run on login nodes. "
   ]
  },
  {
   "cell_type": "code",
   "execution_count": 2,
   "metadata": {},
   "outputs": [
    {
     "name": "stdout",
     "output_type": "stream",
     "text": [
      "usage: seisflows submit [-h] [-s STOP_AFTER]\r\n",
      "\r\n",
      "The main SeisFlows execution command. Submit a SeisFlows workflow to the\r\n",
      "chosen system, equal to executing seisflows.workflow.main(). This function\r\n",
      "will create and fill the working directory with required paths, perform path\r\n",
      "and parameter error checking, and establish the active working environment\r\n",
      "before executing the workflow.\r\n",
      "\r\n",
      "optional arguments:\r\n",
      "  -h, --help            show this help message and exit\r\n",
      "  -s STOP_AFTER, --stop_after STOP_AFTER\r\n",
      "                        Optional override of the 'STOP_AFTER' parameter\r\n"
     ]
    }
   ],
   "source": [
    "! seisflows submit -h"
   ]
  },
  {
   "cell_type": "markdown",
   "metadata": {},
   "source": [
    "#### seisflows clean\n",
    "\n",
    "The `clean` function is used to clear an existing working directory. It deletes all SeisFlows created files and directories using paths in the parameter file, but does not delete the parameter file itself. Use the ``-f/--force`` flag to skip over the 'are you sure?' check statement."
   ]
  },
  {
   "cell_type": "code",
   "execution_count": 4,
   "metadata": {},
   "outputs": [
    {
     "name": "stdout",
     "output_type": "stream",
     "text": [
      "usage: seisflows clean [-h] [-f]\r\n",
      "\r\n",
      "Delete all SeisFlows related files in the working directory, except for the\r\n",
      "parameter file.\r\n",
      "\r\n",
      "optional arguments:\r\n",
      "  -h, --help   show this help message and exit\r\n",
      "  -f, --force  Skip the warning check that precedes the clean function\r\n"
     ]
    }
   ],
   "source": [
    "! seisflows clean -h "
   ]
  },
  {
   "cell_type": "markdown",
   "metadata": {},
   "source": [
    "#### seisflows restart \n",
    "\n",
    "The `restart` function is a convenience function which wraps `clean` and `submit`. It is used to restart workflows using the same parameter file. It also takes the ``-f/--force`` flag that the clean function defines."
   ]
  },
  {
   "cell_type": "code",
   "execution_count": 6,
   "metadata": {
    "scrolled": true
   },
   "outputs": [
    {
     "name": "stdout",
     "output_type": "stream",
     "text": [
      "usage: seisflows restart [-h] [-f]\r\n",
      "\r\n",
      "Akin to running seisflows clean; seisflows submit. Restarts the workflow by\r\n",
      "removing the current state and submitting a fresh workflow.\r\n",
      "\r\n",
      "optional arguments:\r\n",
      "  -h, --help   show this help message and exit\r\n",
      "  -f, --force  Skip the clean warning check statement\r\n"
     ]
    }
   ],
   "source": [
    "! seisflows restart -h"
   ]
  }
 ],
 "metadata": {
  "kernelspec": {
   "display_name": "Python 3",
   "language": "python",
   "name": "python3"
  },
  "language_info": {
   "codemirror_mode": {
    "name": "ipython",
    "version": 3
   },
   "file_extension": ".py",
   "mimetype": "text/x-python",
   "name": "python",
   "nbconvert_exporter": "python",
   "pygments_lexer": "ipython3",
   "version": "3.7.6"
  }
 },
 "nbformat": 4,
 "nbformat_minor": 4
}
