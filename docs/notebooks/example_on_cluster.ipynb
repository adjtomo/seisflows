{
 "cells": [
  {
   "cell_type": "markdown",
   "metadata": {},
   "source": [
    "# Running Examples on a Cluster\n",
    "\n",
    "Here we detail how a User might transition from developing a 2D example problem on their workstation, to performing large-scale inversion on a cluster. In this notebook we show an example running on the New Zealand eScience Infrastructure HPC, named Maui, but is meant to provide a generalizable approach for running SeisFlows on clusters. "
   ]
  },
  {
   "cell_type": "code",
   "execution_count": 2,
   "metadata": {},
   "outputs": [
    {
     "name": "stdout",
     "output_type": "stream",
     "text": [
      "Traceback (most recent call last):\r\n",
      "  File \"/home/bchow/miniconda3/envs/docs/bin/seisflows\", line 33, in <module>\r\n",
      "    sys.exit(load_entry_point('seisflows3', 'console_scripts', 'seisflows')())\r\n",
      "  File \"/home/bchow/miniconda3/envs/docs/bin/seisflows\", line 22, in importlib_load_entry_point\r\n",
      "    for entry_point in distribution(dist_name).entry_points\r\n",
      "  File \"/home/bchow/miniconda3/envs/docs/lib/python3.7/site-packages/importlib_metadata/__init__.py\", line 956, in distribution\r\n",
      "    return Distribution.from_name(distribution_name)\r\n",
      "  File \"/home/bchow/miniconda3/envs/docs/lib/python3.7/site-packages/importlib_metadata/__init__.py\", line 547, in from_name\r\n",
      "    raise PackageNotFoundError(name)\r\n",
      "importlib_metadata.PackageNotFoundError: No package metadata was found for seisflows3\r\n"
     ]
    }
   ],
   "source": [
    "! cd /home/bchow/Work/scratch\n",
    "! ln -s /home/bchow/REPOSITORIES/specfem2d .  # place SPECFEM2D in the working directory\n",
    "! seisflows examples setup 2"
   ]
  },
  {
   "cell_type": "code",
   "execution_count": null,
   "metadata": {},
   "outputs": [],
   "source": []
  }
 ],
 "metadata": {
  "kernelspec": {
   "display_name": "Python 3",
   "language": "python",
   "name": "python3"
  },
  "language_info": {
   "codemirror_mode": {
    "name": "ipython",
    "version": 3
   },
   "file_extension": ".py",
   "mimetype": "text/x-python",
   "name": "python",
   "nbconvert_exporter": "python",
   "pygments_lexer": "ipython3",
   "version": "3.7.6"
  }
 },
 "nbformat": 4,
 "nbformat_minor": 4
}
