{
 "cells": [
  {
   "cell_type": "markdown",
   "metadata": {},
   "source": [
    "Inheritance in Python\n",
    "--------------------------------\n",
    "`SeisFlows` is built upon the object-oriented programming concept of **inheritance**. This documentation page is a simple introduction to this concept to help new users and developers understand how SeisFlows3 is built and expected to operate. \n",
    "\n",
    "**Inheritance** is the ability of one class to derive attributes from another class, improving code *re-usability*. \n",
    "Some terminology used in to talk about this inheritance is defined here:\n",
    "\n",
    "* **Base** (Baseclass): The foundational **Base** class which defines standard behavior. The Baseclass does not inherit any of its attributes or behavior.\n",
    "* **Parent** (Superclass): A class which is being inherited from. A Parent can be a Baseclass, but inheritance can also be daisy-chained.\n",
    "* **Child** (Subclass): A class that inherits some or all of its attributes from a parent.\n",
    "\n",
    "Consider the following toy example where we define a **Base** class which has some internal attributes and functions."
   ]
  },
  {
   "cell_type": "code",
   "execution_count": 47,
   "metadata": {},
   "outputs": [],
   "source": [
    "class Base:\n",
    "    \"\"\"\n",
    "    A Baseclass example. All SeisFlows3 modules contain a Base class which \n",
    "    defines the foundational structure that all inherited classes will adopt\n",
    "    \"\"\"\n",
    "    def __init__(self, example_integer=5, example_float=1.2):\n",
    "        \"\"\"\n",
    "        The init function defines instance-variables and their\n",
    "        default values\n",
    "        \n",
    "        :type \n",
    "        \"\"\"\n",
    "        self.example_integer = example_integer\n",
    "        self.example_float = example_float\n",
    "        \n",
    "    def check(self):\n",
    "        \"\"\"\n",
    "        Check functions ensure that parameters are set correctly.\n",
    "        This toy problem check function simply asserts types are\n",
    "        set correctly.\n",
    "        \"\"\"\n",
    "        assert(self.example_integer < 10), \\\n",
    "            \"The example integer must be < 10\"\n",
    "\n",
    "        assert(self.example_float > 1.), \\\n",
    "            \"The example float must be > 1.\"\n",
    "        \n",
    "    def manipulate(self):\n",
    "        \"\"\"\n",
    "        Manipulate internal attributes\n",
    "        \n",
    "        Each module provides functions which serve a purpose in \n",
    "        the larger workflow. \n",
    "        \n",
    "        :rtype: float\n",
    "        :return: example integer added to example float\n",
    "        \"\"\"\n",
    "        return self.example_integer + self.example_float"
   ]
  },
  {
   "cell_type": "markdown",
   "metadata": {},
   "source": [
    "We can quickly look at the behavior of this class by creating an instance of it."
   ]
  },
  {
   "cell_type": "code",
   "execution_count": 48,
   "metadata": {},
   "outputs": [
    {
     "ename": "AssertionError",
     "evalue": "The example integer must be < 10",
     "output_type": "error",
     "traceback": [
      "\u001b[0;31m---------------------------------------------------------------------------\u001b[0m",
      "\u001b[0;31mAssertionError\u001b[0m                            Traceback (most recent call last)",
      "\u001b[0;32m<ipython-input-48-0d3a45ed832e>\u001b[0m in \u001b[0;36m<module>\u001b[0;34m\u001b[0m\n\u001b[1;32m      1\u001b[0m \u001b[0mmodule\u001b[0m \u001b[0;34m=\u001b[0m \u001b[0mBase\u001b[0m\u001b[0;34m(\u001b[0m\u001b[0mexample_integer\u001b[0m\u001b[0;34m=\u001b[0m\u001b[0;36m11\u001b[0m\u001b[0;34m,\u001b[0m \u001b[0mexample_float\u001b[0m\u001b[0;34m=\u001b[0m\u001b[0;36m3.\u001b[0m\u001b[0;34m)\u001b[0m\u001b[0;34m\u001b[0m\u001b[0;34m\u001b[0m\u001b[0m\n\u001b[0;32m----> 2\u001b[0;31m \u001b[0mmodule\u001b[0m\u001b[0;34m.\u001b[0m\u001b[0mcheck\u001b[0m\u001b[0;34m(\u001b[0m\u001b[0;34m)\u001b[0m\u001b[0;34m\u001b[0m\u001b[0;34m\u001b[0m\u001b[0m\n\u001b[0m",
      "\u001b[0;32m<ipython-input-47-19eac124f82c>\u001b[0m in \u001b[0;36mcheck\u001b[0;34m(self)\u001b[0m\n\u001b[1;32m     21\u001b[0m         \"\"\"\n\u001b[1;32m     22\u001b[0m         \u001b[0;32massert\u001b[0m\u001b[0;34m(\u001b[0m\u001b[0mself\u001b[0m\u001b[0;34m.\u001b[0m\u001b[0mexample_integer\u001b[0m \u001b[0;34m<\u001b[0m \u001b[0;36m10\u001b[0m\u001b[0;34m)\u001b[0m\u001b[0;34m,\u001b[0m\u001b[0;31m \u001b[0m\u001b[0;31m\\\u001b[0m\u001b[0;34m\u001b[0m\u001b[0;34m\u001b[0m\u001b[0m\n\u001b[0;32m---> 23\u001b[0;31m             \u001b[0;34m\"The example integer must be < 10\"\u001b[0m\u001b[0;34m\u001b[0m\u001b[0;34m\u001b[0m\u001b[0m\n\u001b[0m\u001b[1;32m     24\u001b[0m \u001b[0;34m\u001b[0m\u001b[0m\n\u001b[1;32m     25\u001b[0m         \u001b[0;32massert\u001b[0m\u001b[0;34m(\u001b[0m\u001b[0mself\u001b[0m\u001b[0;34m.\u001b[0m\u001b[0mexample_float\u001b[0m \u001b[0;34m>\u001b[0m \u001b[0;36m1.\u001b[0m\u001b[0;34m)\u001b[0m\u001b[0;34m,\u001b[0m\u001b[0;31m \u001b[0m\u001b[0;31m\\\u001b[0m\u001b[0;34m\u001b[0m\u001b[0;34m\u001b[0m\u001b[0m\n",
      "\u001b[0;31mAssertionError\u001b[0m: The example integer must be < 10"
     ]
    }
   ],
   "source": [
    "module = Base(example_integer=11, example_float=3.)\n",
    "module.check()"
   ]
  },
  {
   "cell_type": "code",
   "execution_count": 49,
   "metadata": {},
   "outputs": [
    {
     "name": "stdout",
     "output_type": "stream",
     "text": [
      "9.0\n"
     ]
    }
   ],
   "source": [
    "module = Base(example_integer=6, example_float=3.)\n",
    "module.check()\n",
    "print(module.manipulate())"
   ]
  },
  {
   "cell_type": "markdown",
   "metadata": {},
   "source": [
    "## What problem does inheritance solve?\n",
    "\n",
    "Say we want to use the structure of the `Baseclass`, but we need the `manipulate` function to return the subtraction of `example_integer` and `example_float`, instead of their addition. There are a few ways to approach this problem.\n",
    "\n",
    "### Plausible but cumbersome approaches\n",
    "* **Copy-paste**: One method of doing this would be to copy-paste the *entire* `Baseclass` (e.g., as `BaseCopy`) and re-define the `manipulate` function. This would isntantly double our code length, with a lot of the new code being completly redundant. Additionally, if we made **any** changes to the `Baseclass`, we would need to also make those changes to `BaseCopy` to keep functionality consistent. \n",
    "\n",
    "* **Create a new function**: Another method would be to define a completly new function, e.g., `manipulate2`. This is more acceptable, BUT if some other script, function or module calls `Base.manipulate()`, we will now need to make them call `Base.manipulate2()` instead. This involves a signficant amount of work. Similarly, consider the case where we want to go back to the original `manipulate` function. \n",
    "\n",
    "### The inheritance approach\n",
    "**Inheritance** solves this problem but allowing us to overwrite the manipulate function by creating a `Child` class, which inherits the properties of its `Parent`. This results in the least amount of code writing, keeps behavior consistent, and allows flexibility in editing established code (e.g., the `Baseclass`). Let's see how this is done:"
   ]
  },
  {
   "cell_type": "code",
   "execution_count": 50,
   "metadata": {},
   "outputs": [],
   "source": [
    "class Super(Base):\n",
    "    \"\"\"\n",
    "    This Superclass will now inherit all of the attributes of the Baseclass.\n",
    "    It does nothing new.\n",
    "    \"\"\"\n",
    "    pass"
   ]
  },
  {
   "cell_type": "code",
   "execution_count": 54,
   "metadata": {},
   "outputs": [
    {
     "name": "stdout",
     "output_type": "stream",
     "text": [
      "9.0\n"
     ]
    }
   ],
   "source": [
    "module = Super(example_integer=6, example_float=3.)\n",
    "module.check()\n",
    "print(module.manipulate())"
   ]
  },
  {
   "cell_type": "markdown",
   "metadata": {},
   "source": [
    "### Overwriting functions\n",
    "To solve the problem stated above, we can totally overwrite the manipulate function to provide different behavior"
   ]
  },
  {
   "cell_type": "code",
   "execution_count": 59,
   "metadata": {},
   "outputs": [],
   "source": [
    "class Super(Base):\n",
    "    \"\"\"\n",
    "    This Superclass overwrites the manipulate function\n",
    "    \"\"\"\n",
    "    def manipulate(self):\n",
    "        \"\"\"\n",
    "        Manipulate internal attributes \n",
    "        \n",
    "        :rtype: float\n",
    "        :return: example integer subtracted from example float\n",
    "        \"\"\" \n",
    "        return self.example_integer - self.example_float"
   ]
  },
  {
   "cell_type": "code",
   "execution_count": 60,
   "metadata": {},
   "outputs": [
    {
     "name": "stdout",
     "output_type": "stream",
     "text": [
      "3.0\n"
     ]
    }
   ],
   "source": [
    "module = Super(example_integer=6, example_float=3.)\n",
    "module.check()\n",
    "print(module.manipulate())"
   ]
  },
  {
   "cell_type": "markdown",
   "metadata": {},
   "source": [
    "### super() functions\n",
    "The [super()](https://docs.python.org/3/library/functions.html#super) function \"returns a proxy object that delegates method calls to a parent or sibling class.\" In other words, super() calls the Parent class. \n",
    "\n",
    "We can use the Python super() function to directly incorporate functions from the parent class, allowing us to build upon previously written code. This is useful if you don't want to completely overwrite a previously-defined function."
   ]
  },
  {
   "cell_type": "code",
   "execution_count": 63,
   "metadata": {},
   "outputs": [],
   "source": [
    "class Super(Base):\n",
    "    \"\"\"\n",
    "    This Superclass overwrites the manipulate function\n",
    "    \"\"\"\n",
    "    def manipulate(self):\n",
    "        \"\"\"\n",
    "        Manipulate internal attributes \n",
    "        \n",
    "        :rtype: float\n",
    "        :return: example integer subtracted from example float\n",
    "        \"\"\" \n",
    "        added_values = super().manipulate()  # This calls Base.manipulate()\n",
    "        print(f\"added_values={added_values}\")\n",
    "        return added_values ** 2"
   ]
  },
  {
   "cell_type": "code",
   "execution_count": 64,
   "metadata": {},
   "outputs": [
    {
     "name": "stdout",
     "output_type": "stream",
     "text": [
      "added_values=9.0\n",
      "81.0\n"
     ]
    }
   ],
   "source": [
    "module = Super(example_integer=6, example_float=3.)\n",
    "module.check()\n",
    "print(module.manipulate())"
   ]
  },
  {
   "cell_type": "markdown",
   "metadata": {},
   "source": [
    "## Multiple inheritance\n",
    "Inheritance can be chained, meaning former `Children` can become `Parents`! Although chaining inheritance can quickly become messy and confusing, it is useful for extending existing capabilities without having to make direct edits to the `Parent` classes. \n",
    "\n",
    "Let's say you want to inherit all of the capabilities of the Super class, but you want to extend it further for your own specific workflow. Here we define a `Superer` class, which inherits and extends the `Super` class (which itself inherits from the `Base` class)."
   ]
  },
  {
   "cell_type": "code",
   "execution_count": 65,
   "metadata": {},
   "outputs": [],
   "source": [
    "class Superer(Super):\n",
    "    \"\"\"\n",
    "    This Superclass inherits from the Super class, which itself inherits from the Base class\n",
    "    \"\"\"\n",
    "    def __init__(self, new_value=8, **kwargs):\n",
    "        \"\"\"\n",
    "        We can extend the internal attributes in our Superclass. \n",
    "        The **kwargs allow us to be lazy and assume that the User understands class values must be\n",
    "        passed all the way to the Baseclass\n",
    "        \"\"\"\n",
    "        super().__init__(**kwargs)\n",
    "        self.new_value = new_value\n",
    "        \n",
    "    def check(self):\n",
    "        \"\"\"\n",
    "        We would like to extend the check function to address our new value,\n",
    "        while still checking the original values\n",
    "        \"\"\"\n",
    "        super().check()\n",
    "        assert(self.new_value != 0), \"New value must be > 0\"\n",
    "        \n",
    "    def manipulate(self):\n",
    "        \"\"\"\n",
    "        We can further manipulate this function, which itself has been changed in\n",
    "        the Superclass.\n",
    "        \n",
    "        :rtype: float\n",
    "        :return: example integer subtracted from example float\n",
    "        \"\"\" \n",
    "        squared_values = super().manipulate()\n",
    "        print(f\"squared_values={squared_values}\")\n",
    "        return squared_values / 2\n",
    "    \n",
    "    def manipulate_more(self):\n",
    "        \"\"\"\n",
    "        We can also define completely new functions which are not present in any of the Parent classes.\n",
    "        This is useful when your Superclass needs to fully extend the functionalities of its Parents.\n",
    "        \"\"\"\n",
    "        manipulated_value = self.manipulate()\n",
    "        return self.new_value + manipulated_value"
   ]
  },
  {
   "cell_type": "code",
   "execution_count": 66,
   "metadata": {},
   "outputs": [
    {
     "name": "stdout",
     "output_type": "stream",
     "text": [
      "added_values=9.0\n",
      "squared_values=81.0\n",
      "manipulate: 40.5\n",
      "added_values=9.0\n",
      "squared_values=81.0\n",
      "manipulate_more: 42.5\n"
     ]
    }
   ],
   "source": [
    "module = Superer(example_integer=6, example_float=3., new_value=2)\n",
    "module.check()\n",
    "print(f\"manipulate: {module.manipulate()}\")\n",
    "print(f\"manipulate_more: {module.manipulate_more()}\")"
   ]
  }
 ],
 "metadata": {
  "kernelspec": {
   "display_name": "Python 3 (ipykernel)",
   "language": "python",
   "name": "python3"
  },
  "language_info": {
   "codemirror_mode": {
    "name": "ipython",
    "version": 3
   },
   "file_extension": ".py",
   "mimetype": "text/x-python",
   "name": "python",
   "nbconvert_exporter": "python",
   "pygments_lexer": "ipython3",
   "version": "3.9.15"
  }
 },
 "nbformat": 4,
 "nbformat_minor": 4
}
